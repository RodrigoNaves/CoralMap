{
 "cells": [
  {
   "cell_type": "code",
   "execution_count": null,
   "id": "94251784",
   "metadata": {},
   "outputs": [],
   "source": [
    "from dataprep.eda import plot\n",
    "from dataprep.eda import create_report\n",
    "from dataprep.eda import plot_diff\n",
    "import pandas as pd"
   ]
  },
  {
   "cell_type": "code",
   "execution_count": null,
   "id": "80199335",
   "metadata": {},
   "outputs": [],
   "source": [
    "data_2006 = pd.read_csv('merged_2006_data.csv')\n",
    "data_2011 = pd.read_csv('merged_2011_data.csv')\n",
    "data_2016 = pd.read_csv('merged_2016_data.csv')\n",
    "y_labels_2006 = pd.read_csv('y_labels_cob_2011_data.csv')\n",
    "y_labels_2011 = pd.read_csv('y_labels_cob_2016_data.csv')"
   ]
  },
  {
   "cell_type": "code",
   "execution_count": null,
   "id": "71520bb2",
   "metadata": {},
   "outputs": [],
   "source": [
    "report_2016 = create_report(data_2016, title='report2016')"
   ]
  },
  {
   "cell_type": "code",
   "execution_count": 12,
   "id": "591ffb4e",
   "metadata": {},
   "outputs": [],
   "source": []
  },
  {
   "cell_type": "code",
   "execution_count": null,
   "id": "21a432e5",
   "metadata": {},
   "outputs": [],
   "source": [
    "report_2016.save(filename='report_2006', to='../reports/')"
   ]
  },
  {
   "cell_type": "code",
   "execution_count": null,
   "id": "28882727",
   "metadata": {},
   "outputs": [],
   "source": []
  },
  {
   "cell_type": "code",
   "execution_count": null,
   "id": "d7f8277c",
   "metadata": {},
   "outputs": [],
   "source": []
  }
 ],
 "metadata": {
  "kernelspec": {
   "display_name": "Python 3 (ipykernel)",
   "language": "python",
   "name": "python3"
  },
  "language_info": {
   "codemirror_mode": {
    "name": "ipython",
    "version": 3
   },
   "file_extension": ".py",
   "mimetype": "text/x-python",
   "name": "python",
   "nbconvert_exporter": "python",
   "pygments_lexer": "ipython3",
   "version": "3.8.11"
  }
 },
 "nbformat": 4,
 "nbformat_minor": 5
}
