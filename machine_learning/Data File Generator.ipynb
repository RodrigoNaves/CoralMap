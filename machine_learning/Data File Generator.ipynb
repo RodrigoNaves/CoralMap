{
 "cells": [
  {
   "cell_type": "code",
   "execution_count": 1,
   "id": "ee03489e",
   "metadata": {},
   "outputs": [],
   "source": [
    "import numpy as np\n",
    "import os\n",
    "import pandas as pd"
   ]
  },
  {
   "cell_type": "code",
   "execution_count": 2,
   "id": "d5950208",
   "metadata": {},
   "outputs": [],
   "source": [
    "directory = os.path.join(\"D:\\\\Master of IT\\\\SEMESTER 4\\\\RESEARCH PROJECT\\\\Data\\\\country_of_origin\")\n",
    "files1 =[]\n",
    "dataFrames1 = []\n",
    "column_names = [\"YEAR\",\"BPLP\",\"STATE\",\"REGIONTYPE\",\"REGION\",\"FREQUENCY\",\"MALES\",\"FEMALES\",\"TOTAL\"]"
   ]
  },
  {
   "cell_type": "code",
   "execution_count": 3,
   "id": "9cf62241",
   "metadata": {},
   "outputs": [],
   "source": [
    "def importData():\n",
    "    for root,dirs,files in os.walk(directory):\n",
    "        for file in files:\n",
    "            if file.endswith(\".csv\"):\n",
    "                stringF = os.path.join(root,file)\n",
    "                files1.append(stringF)\n",
    "    print(files1)\n",
    "    for file in files1:\n",
    "        #f = open(file, mode='r')\n",
    "        tpdf = csvImporter(file)\n",
    "        dataFrames1.append(tpdf)\n",
    "        #df.append(tpdf)"
   ]
  },
  {
   "cell_type": "code",
   "execution_count": 4,
   "id": "13c97f7e",
   "metadata": {},
   "outputs": [
    {
     "name": "stdout",
     "output_type": "stream",
     "text": [
      "['D:\\\\Master of IT\\\\SEMESTER 4\\\\RESEARCH PROJECT\\\\Data\\\\country_of_origin\\\\2006-01-01_-_2006-01-01.csv\\\\holi.csv', 'D:\\\\Master of IT\\\\SEMESTER 4\\\\RESEARCH PROJECT\\\\Data\\\\country_of_origin\\\\2006-01-01_-_2006-01-01.csv (1)\\\\ABS_CENSUS2011_T08-5187514179259413737.csv', 'D:\\\\Master of IT\\\\SEMESTER 4\\\\RESEARCH PROJECT\\\\Data\\\\country_of_origin\\\\2006-01-01_-_2006-01-01.csv (10)\\\\ABS_CENSUS2011_T08-7406856665950155240.csv', 'D:\\\\Master of IT\\\\SEMESTER 4\\\\RESEARCH PROJECT\\\\Data\\\\country_of_origin\\\\2006-01-01_-_2006-01-01.csv (11)\\\\ABS_CENSUS2011_T08-8859531895007246005.csv', 'D:\\\\Master of IT\\\\SEMESTER 4\\\\RESEARCH PROJECT\\\\Data\\\\country_of_origin\\\\2006-01-01_-_2006-01-01.csv (12)\\\\ABS_CENSUS2011_T08-6833600961496877171.csv', 'D:\\\\Master of IT\\\\SEMESTER 4\\\\RESEARCH PROJECT\\\\Data\\\\country_of_origin\\\\2006-01-01_-_2006-01-01.csv (13)\\\\ABS_CENSUS2011_T08-222662812568406453.csv', 'D:\\\\Master of IT\\\\SEMESTER 4\\\\RESEARCH PROJECT\\\\Data\\\\country_of_origin\\\\2006-01-01_-_2006-01-01.csv (14)\\\\ABS_CENSUS2011_T08-7257568846977830832.csv', 'D:\\\\Master of IT\\\\SEMESTER 4\\\\RESEARCH PROJECT\\\\Data\\\\country_of_origin\\\\2006-01-01_-_2006-01-01.csv (15)\\\\ABS_CENSUS2011_T08-4977596714634361081.csv', 'D:\\\\Master of IT\\\\SEMESTER 4\\\\RESEARCH PROJECT\\\\Data\\\\country_of_origin\\\\2006-01-01_-_2006-01-01.csv (16)\\\\ABS_CENSUS2011_T08-7758641570874120425.csv', 'D:\\\\Master of IT\\\\SEMESTER 4\\\\RESEARCH PROJECT\\\\Data\\\\country_of_origin\\\\2006-01-01_-_2006-01-01.csv (17)\\\\ABS_CENSUS2011_T08-1865425521184022677.csv', 'D:\\\\Master of IT\\\\SEMESTER 4\\\\RESEARCH PROJECT\\\\Data\\\\country_of_origin\\\\2006-01-01_-_2006-01-01.csv (18)\\\\ABS_CENSUS2011_T08-8295653480001689830.csv', 'D:\\\\Master of IT\\\\SEMESTER 4\\\\RESEARCH PROJECT\\\\Data\\\\country_of_origin\\\\2006-01-01_-_2006-01-01.csv (19)\\\\ABS_CENSUS2011_T08-3531166890687219394.csv', 'D:\\\\Master of IT\\\\SEMESTER 4\\\\RESEARCH PROJECT\\\\Data\\\\country_of_origin\\\\2006-01-01_-_2006-01-01.csv (2)\\\\ABS_CENSUS2011_T08-6869270758364337324.csv', 'D:\\\\Master of IT\\\\SEMESTER 4\\\\RESEARCH PROJECT\\\\Data\\\\country_of_origin\\\\2006-01-01_-_2006-01-01.csv (20)\\\\ABS_CENSUS2011_T08-7144146206763644277.csv', 'D:\\\\Master of IT\\\\SEMESTER 4\\\\RESEARCH PROJECT\\\\Data\\\\country_of_origin\\\\2006-01-01_-_2006-01-01.csv (21)\\\\ABS_CENSUS2011_T08-1702501783525619134.csv', 'D:\\\\Master of IT\\\\SEMESTER 4\\\\RESEARCH PROJECT\\\\Data\\\\country_of_origin\\\\2006-01-01_-_2006-01-01.csv (22)\\\\ABS_CENSUS2011_T08-4328822117868918725.csv', 'D:\\\\Master of IT\\\\SEMESTER 4\\\\RESEARCH PROJECT\\\\Data\\\\country_of_origin\\\\2006-01-01_-_2006-01-01.csv (23)\\\\ABS_CENSUS2011_T08-1845217593361939865.csv', 'D:\\\\Master of IT\\\\SEMESTER 4\\\\RESEARCH PROJECT\\\\Data\\\\country_of_origin\\\\2006-01-01_-_2006-01-01.csv (24)\\\\ABS_CENSUS2011_T08-5067959548940238839.csv', 'D:\\\\Master of IT\\\\SEMESTER 4\\\\RESEARCH PROJECT\\\\Data\\\\country_of_origin\\\\2006-01-01_-_2006-01-01.csv (25)\\\\ABS_CENSUS2011_T08-1026420670166065100.csv', 'D:\\\\Master of IT\\\\SEMESTER 4\\\\RESEARCH PROJECT\\\\Data\\\\country_of_origin\\\\2006-01-01_-_2006-01-01.csv (26)\\\\ABS_CENSUS2011_T08-6669843142568059631.csv', 'D:\\\\Master of IT\\\\SEMESTER 4\\\\RESEARCH PROJECT\\\\Data\\\\country_of_origin\\\\2006-01-01_-_2006-01-01.csv (27)\\\\ABS_CENSUS2011_T08-2994342307779077183.csv', 'D:\\\\Master of IT\\\\SEMESTER 4\\\\RESEARCH PROJECT\\\\Data\\\\country_of_origin\\\\2006-01-01_-_2006-01-01.csv (28)\\\\ABS_CENSUS2011_T08-6478561959728869272.csv', 'D:\\\\Master of IT\\\\SEMESTER 4\\\\RESEARCH PROJECT\\\\Data\\\\country_of_origin\\\\2006-01-01_-_2006-01-01.csv (29)\\\\ABS_CENSUS2011_T08-3076485820296784689.csv', 'D:\\\\Master of IT\\\\SEMESTER 4\\\\RESEARCH PROJECT\\\\Data\\\\country_of_origin\\\\2006-01-01_-_2006-01-01.csv (3)\\\\ABS_CENSUS2011_T08-9101813489184192752.csv', 'D:\\\\Master of IT\\\\SEMESTER 4\\\\RESEARCH PROJECT\\\\Data\\\\country_of_origin\\\\2006-01-01_-_2006-01-01.csv (30)\\\\ABS_CENSUS2011_T08-8077335283816393293.csv', 'D:\\\\Master of IT\\\\SEMESTER 4\\\\RESEARCH PROJECT\\\\Data\\\\country_of_origin\\\\2006-01-01_-_2006-01-01.csv (31)\\\\ABS_CENSUS2011_T08-6015835954465789047.csv', 'D:\\\\Master of IT\\\\SEMESTER 4\\\\RESEARCH PROJECT\\\\Data\\\\country_of_origin\\\\2006-01-01_-_2006-01-01.csv (4)\\\\ABS_CENSUS2011_T08-4318775167772493268.csv', 'D:\\\\Master of IT\\\\SEMESTER 4\\\\RESEARCH PROJECT\\\\Data\\\\country_of_origin\\\\2006-01-01_-_2006-01-01.csv (5)\\\\ABS_CENSUS2011_T08-3495365484693537408.csv', 'D:\\\\Master of IT\\\\SEMESTER 4\\\\RESEARCH PROJECT\\\\Data\\\\country_of_origin\\\\2006-01-01_-_2006-01-01.csv (6)\\\\ABS_CENSUS2011_T08-6581719817742238905.csv', 'D:\\\\Master of IT\\\\SEMESTER 4\\\\RESEARCH PROJECT\\\\Data\\\\country_of_origin\\\\2006-01-01_-_2006-01-01.csv (7)\\\\ABS_CENSUS2011_T08-5925209558941045442.csv', 'D:\\\\Master of IT\\\\SEMESTER 4\\\\RESEARCH PROJECT\\\\Data\\\\country_of_origin\\\\2006-01-01_-_2006-01-01.csv (8)\\\\ABS_CENSUS2011_T08-3625431324403420137.csv', 'D:\\\\Master of IT\\\\SEMESTER 4\\\\RESEARCH PROJECT\\\\Data\\\\country_of_origin\\\\2006-01-01_-_2006-01-01.csv (9)\\\\ABS_CENSUS2011_T08-4222410203513955350.csv', 'D:\\\\Master of IT\\\\SEMESTER 4\\\\RESEARCH PROJECT\\\\Data\\\\country_of_origin\\\\2011-01-01_-_2011-01-01.csv\\\\ABS_CENSUS2011_T08-277734704455291016.csv', 'D:\\\\Master of IT\\\\SEMESTER 4\\\\RESEARCH PROJECT\\\\Data\\\\country_of_origin\\\\2011-01-01_-_2011-01-01.csv (1)\\\\ABS_CENSUS2011_T08-5288942715693769857.csv', 'D:\\\\Master of IT\\\\SEMESTER 4\\\\RESEARCH PROJECT\\\\Data\\\\country_of_origin\\\\2011-01-01_-_2011-01-01.csv (10)\\\\ABS_CENSUS2011_T08-6556320136470101253.csv', 'D:\\\\Master of IT\\\\SEMESTER 4\\\\RESEARCH PROJECT\\\\Data\\\\country_of_origin\\\\2011-01-01_-_2011-01-01.csv (11)\\\\ABS_CENSUS2011_T08-7400696160444307970.csv', 'D:\\\\Master of IT\\\\SEMESTER 4\\\\RESEARCH PROJECT\\\\Data\\\\country_of_origin\\\\2011-01-01_-_2011-01-01.csv (12)\\\\ABS_CENSUS2011_T08-5702631892060602070.csv', 'D:\\\\Master of IT\\\\SEMESTER 4\\\\RESEARCH PROJECT\\\\Data\\\\country_of_origin\\\\2011-01-01_-_2011-01-01.csv (13)\\\\ABS_CENSUS2011_T08-6689872228127642475.csv', 'D:\\\\Master of IT\\\\SEMESTER 4\\\\RESEARCH PROJECT\\\\Data\\\\country_of_origin\\\\2011-01-01_-_2011-01-01.csv (14)\\\\ABS_CENSUS2011_T08-1247254284299371178.csv', 'D:\\\\Master of IT\\\\SEMESTER 4\\\\RESEARCH PROJECT\\\\Data\\\\country_of_origin\\\\2011-01-01_-_2011-01-01.csv (15)\\\\ABS_CENSUS2011_T08-6446955907323650498.csv', 'D:\\\\Master of IT\\\\SEMESTER 4\\\\RESEARCH PROJECT\\\\Data\\\\country_of_origin\\\\2011-01-01_-_2011-01-01.csv (16)\\\\ABS_CENSUS2011_T08-2289190999325257365.csv', 'D:\\\\Master of IT\\\\SEMESTER 4\\\\RESEARCH PROJECT\\\\Data\\\\country_of_origin\\\\2011-01-01_-_2011-01-01.csv (17)\\\\ABS_CENSUS2011_T08-323238522869463960.csv', 'D:\\\\Master of IT\\\\SEMESTER 4\\\\RESEARCH PROJECT\\\\Data\\\\country_of_origin\\\\2011-01-01_-_2011-01-01.csv (18)\\\\ABS_CENSUS2011_T08-3334413968785078192.csv', 'D:\\\\Master of IT\\\\SEMESTER 4\\\\RESEARCH PROJECT\\\\Data\\\\country_of_origin\\\\2011-01-01_-_2011-01-01.csv (19)\\\\ABS_CENSUS2011_T08-4312129042650111273.csv', 'D:\\\\Master of IT\\\\SEMESTER 4\\\\RESEARCH PROJECT\\\\Data\\\\country_of_origin\\\\2011-01-01_-_2011-01-01.csv (2)\\\\ABS_CENSUS2011_T08-8415446916253702664.csv', 'D:\\\\Master of IT\\\\SEMESTER 4\\\\RESEARCH PROJECT\\\\Data\\\\country_of_origin\\\\2011-01-01_-_2011-01-01.csv (20)\\\\ABS_CENSUS2011_T08-2553153669164340810.csv', 'D:\\\\Master of IT\\\\SEMESTER 4\\\\RESEARCH PROJECT\\\\Data\\\\country_of_origin\\\\2011-01-01_-_2011-01-01.csv (21)\\\\ABS_CENSUS2011_T08-6439383622584037392.csv', 'D:\\\\Master of IT\\\\SEMESTER 4\\\\RESEARCH PROJECT\\\\Data\\\\country_of_origin\\\\2011-01-01_-_2011-01-01.csv (22)\\\\ABS_CENSUS2011_T08-7036546341680746233.csv', 'D:\\\\Master of IT\\\\SEMESTER 4\\\\RESEARCH PROJECT\\\\Data\\\\country_of_origin\\\\2011-01-01_-_2011-01-01.csv (23)\\\\ABS_CENSUS2011_T08-237303540508594270.csv', 'D:\\\\Master of IT\\\\SEMESTER 4\\\\RESEARCH PROJECT\\\\Data\\\\country_of_origin\\\\2011-01-01_-_2011-01-01.csv (24)\\\\ABS_CENSUS2011_T08-8923246988581534047.csv', 'D:\\\\Master of IT\\\\SEMESTER 4\\\\RESEARCH PROJECT\\\\Data\\\\country_of_origin\\\\2011-01-01_-_2011-01-01.csv (25)\\\\ABS_CENSUS2011_T08-2543436927908326965.csv', 'D:\\\\Master of IT\\\\SEMESTER 4\\\\RESEARCH PROJECT\\\\Data\\\\country_of_origin\\\\2011-01-01_-_2011-01-01.csv (26)\\\\ABS_CENSUS2011_T08-2719938485194365078.csv', 'D:\\\\Master of IT\\\\SEMESTER 4\\\\RESEARCH PROJECT\\\\Data\\\\country_of_origin\\\\2011-01-01_-_2011-01-01.csv (27)\\\\ABS_CENSUS2011_T08-5573967093641678397.csv', 'D:\\\\Master of IT\\\\SEMESTER 4\\\\RESEARCH PROJECT\\\\Data\\\\country_of_origin\\\\2011-01-01_-_2011-01-01.csv (28)\\\\ABS_CENSUS2011_T08-6112240051236238047.csv', 'D:\\\\Master of IT\\\\SEMESTER 4\\\\RESEARCH PROJECT\\\\Data\\\\country_of_origin\\\\2011-01-01_-_2011-01-01.csv (29)\\\\ABS_CENSUS2011_T08-5147776614144515886.csv', 'D:\\\\Master of IT\\\\SEMESTER 4\\\\RESEARCH PROJECT\\\\Data\\\\country_of_origin\\\\2011-01-01_-_2011-01-01.csv (3)\\\\ABS_CENSUS2011_T08-3488184645622056240.csv', 'D:\\\\Master of IT\\\\SEMESTER 4\\\\RESEARCH PROJECT\\\\Data\\\\country_of_origin\\\\2011-01-01_-_2011-01-01.csv (30)\\\\ABS_CENSUS2011_T08-4308982512078919769.csv', 'D:\\\\Master of IT\\\\SEMESTER 4\\\\RESEARCH PROJECT\\\\Data\\\\country_of_origin\\\\2011-01-01_-_2011-01-01.csv (31)\\\\ABS_CENSUS2011_T08-3263700704407737968.csv', 'D:\\\\Master of IT\\\\SEMESTER 4\\\\RESEARCH PROJECT\\\\Data\\\\country_of_origin\\\\2011-01-01_-_2011-01-01.csv (4)\\\\ABS_CENSUS2011_T08-5463750933424400715.csv', 'D:\\\\Master of IT\\\\SEMESTER 4\\\\RESEARCH PROJECT\\\\Data\\\\country_of_origin\\\\2011-01-01_-_2011-01-01.csv (5)\\\\ABS_CENSUS2011_T08-4822156935426850337.csv', 'D:\\\\Master of IT\\\\SEMESTER 4\\\\RESEARCH PROJECT\\\\Data\\\\country_of_origin\\\\2011-01-01_-_2011-01-01.csv (6)\\\\ABS_CENSUS2011_T08-5932316684762751446.csv', 'D:\\\\Master of IT\\\\SEMESTER 4\\\\RESEARCH PROJECT\\\\Data\\\\country_of_origin\\\\2011-01-01_-_2011-01-01.csv (7)\\\\ABS_CENSUS2011_T08-3061284081629096702.csv', 'D:\\\\Master of IT\\\\SEMESTER 4\\\\RESEARCH PROJECT\\\\Data\\\\country_of_origin\\\\2011-01-01_-_2011-01-01.csv (8)\\\\ABS_CENSUS2011_T08-7206574306183289364.csv', 'D:\\\\Master of IT\\\\SEMESTER 4\\\\RESEARCH PROJECT\\\\Data\\\\country_of_origin\\\\2011-01-01_-_2011-01-01.csv (9)\\\\ABS_CENSUS2011_T08-8000967375292254407.csv', 'D:\\\\Master of IT\\\\SEMESTER 4\\\\RESEARCH PROJECT\\\\Data\\\\country_of_origin\\\\LGA2011-based_T08_Country_of_Birth_of_Person_by_Sex__LGA__as_at_2011-08-11.csv\\\\ABS_CENSUS2011_T08_LGA-4260752862568401637.csv', 'D:\\\\Master of IT\\\\SEMESTER 4\\\\RESEARCH PROJECT\\\\Data\\\\country_of_origin\\\\SA2-based_T08_Country_of_Birth_of_Person_by_Sex_as_at_2011-08-11.csv\\\\ABS_CENSUS2011_T08-2808673690847379954.csv', 'D:\\\\Master of IT\\\\SEMESTER 4\\\\RESEARCH PROJECT\\\\Data\\\\country_of_origin\\\\SA2-based_T08_Country_of_Birth_of_Person_by_Sex_as_at_2011-08-11.csv\\\\ABS_CENSUS2011_T08-2808673690847379954_1.csv', 'D:\\\\Master of IT\\\\SEMESTER 4\\\\RESEARCH PROJECT\\\\Data\\\\country_of_origin\\\\SA2-based_T08_Country_of_Birth_of_Person_by_Sex_as_at_2011-08-11.csv (1)\\\\ABS_CENSUS2011_T08-3986781684842450361.csv', 'D:\\\\Master of IT\\\\SEMESTER 4\\\\RESEARCH PROJECT\\\\Data\\\\country_of_origin\\\\SA2-based_T08_Country_of_Birth_of_Person_by_Sex_as_at_2011-08-11.csv (10)\\\\ABS_CENSUS2011_T08-3485934518018514910.csv', 'D:\\\\Master of IT\\\\SEMESTER 4\\\\RESEARCH PROJECT\\\\Data\\\\country_of_origin\\\\SA2-based_T08_Country_of_Birth_of_Person_by_Sex_as_at_2011-08-11.csv (11)\\\\ABS_CENSUS2011_T08-6972968134585885529.csv', 'D:\\\\Master of IT\\\\SEMESTER 4\\\\RESEARCH PROJECT\\\\Data\\\\country_of_origin\\\\SA2-based_T08_Country_of_Birth_of_Person_by_Sex_as_at_2011-08-11.csv (12)\\\\ABS_CENSUS2011_T08-8519404845398836759.csv', 'D:\\\\Master of IT\\\\SEMESTER 4\\\\RESEARCH PROJECT\\\\Data\\\\country_of_origin\\\\SA2-based_T08_Country_of_Birth_of_Person_by_Sex_as_at_2011-08-11.csv (13)\\\\ABS_CENSUS2011_T08-7976162917890319083.csv', 'D:\\\\Master of IT\\\\SEMESTER 4\\\\RESEARCH PROJECT\\\\Data\\\\country_of_origin\\\\SA2-based_T08_Country_of_Birth_of_Person_by_Sex_as_at_2011-08-11.csv (14)\\\\ABS_CENSUS2011_T08-4393123150374981214.csv', 'D:\\\\Master of IT\\\\SEMESTER 4\\\\RESEARCH PROJECT\\\\Data\\\\country_of_origin\\\\SA2-based_T08_Country_of_Birth_of_Person_by_Sex_as_at_2011-08-11.csv (15)\\\\ABS_CENSUS2011_T08-266768713514276220.csv', 'D:\\\\Master of IT\\\\SEMESTER 4\\\\RESEARCH PROJECT\\\\Data\\\\country_of_origin\\\\SA2-based_T08_Country_of_Birth_of_Person_by_Sex_as_at_2011-08-11.csv (16)\\\\ABS_CENSUS2011_T08-8838333137913764232.csv', 'D:\\\\Master of IT\\\\SEMESTER 4\\\\RESEARCH PROJECT\\\\Data\\\\country_of_origin\\\\SA2-based_T08_Country_of_Birth_of_Person_by_Sex_as_at_2011-08-11.csv (17)\\\\ABS_CENSUS2011_T08-7312488313525392439.csv', 'D:\\\\Master of IT\\\\SEMESTER 4\\\\RESEARCH PROJECT\\\\Data\\\\country_of_origin\\\\SA2-based_T08_Country_of_Birth_of_Person_by_Sex_as_at_2011-08-11.csv (18)\\\\ABS_CENSUS2011_T08-8861254124370255158.csv', 'D:\\\\Master of IT\\\\SEMESTER 4\\\\RESEARCH PROJECT\\\\Data\\\\country_of_origin\\\\SA2-based_T08_Country_of_Birth_of_Person_by_Sex_as_at_2011-08-11.csv (19)\\\\ABS_CENSUS2011_T08-9163251239888327908.csv', 'D:\\\\Master of IT\\\\SEMESTER 4\\\\RESEARCH PROJECT\\\\Data\\\\country_of_origin\\\\SA2-based_T08_Country_of_Birth_of_Person_by_Sex_as_at_2011-08-11.csv (2)\\\\ABS_CENSUS2011_T08-6703154322897249911.csv', 'D:\\\\Master of IT\\\\SEMESTER 4\\\\RESEARCH PROJECT\\\\Data\\\\country_of_origin\\\\SA2-based_T08_Country_of_Birth_of_Person_by_Sex_as_at_2011-08-11.csv (20)\\\\ABS_CENSUS2011_T08-5910365259357657509.csv', 'D:\\\\Master of IT\\\\SEMESTER 4\\\\RESEARCH PROJECT\\\\Data\\\\country_of_origin\\\\SA2-based_T08_Country_of_Birth_of_Person_by_Sex_as_at_2011-08-11.csv (21)\\\\ABS_CENSUS2011_T08-6407070443862955821.csv', 'D:\\\\Master of IT\\\\SEMESTER 4\\\\RESEARCH PROJECT\\\\Data\\\\country_of_origin\\\\SA2-based_T08_Country_of_Birth_of_Person_by_Sex_as_at_2011-08-11.csv (22)\\\\ABS_CENSUS2011_T08-8366697007863841011.csv', 'D:\\\\Master of IT\\\\SEMESTER 4\\\\RESEARCH PROJECT\\\\Data\\\\country_of_origin\\\\SA2-based_T08_Country_of_Birth_of_Person_by_Sex_as_at_2011-08-11.csv (23)\\\\ABS_CENSUS2011_T08-7172887900637237325.csv', 'D:\\\\Master of IT\\\\SEMESTER 4\\\\RESEARCH PROJECT\\\\Data\\\\country_of_origin\\\\SA2-based_T08_Country_of_Birth_of_Person_by_Sex_as_at_2011-08-11.csv (24)\\\\ABS_CENSUS2011_T08-7748399062394469897.csv', 'D:\\\\Master of IT\\\\SEMESTER 4\\\\RESEARCH PROJECT\\\\Data\\\\country_of_origin\\\\SA2-based_T08_Country_of_Birth_of_Person_by_Sex_as_at_2011-08-11.csv (25)\\\\ABS_CENSUS2011_T08-3824659202208515832.csv', 'D:\\\\Master of IT\\\\SEMESTER 4\\\\RESEARCH PROJECT\\\\Data\\\\country_of_origin\\\\SA2-based_T08_Country_of_Birth_of_Person_by_Sex_as_at_2011-08-11.csv (26)\\\\ABS_CENSUS2011_T08-773696822040762545.csv', 'D:\\\\Master of IT\\\\SEMESTER 4\\\\RESEARCH PROJECT\\\\Data\\\\country_of_origin\\\\SA2-based_T08_Country_of_Birth_of_Person_by_Sex_as_at_2011-08-11.csv (27)\\\\ABS_CENSUS2011_T08-7638516811245841324.csv', 'D:\\\\Master of IT\\\\SEMESTER 4\\\\RESEARCH PROJECT\\\\Data\\\\country_of_origin\\\\SA2-based_T08_Country_of_Birth_of_Person_by_Sex_as_at_2011-08-11.csv (28)\\\\ABS_CENSUS2011_T08-1946514700968156308.csv', 'D:\\\\Master of IT\\\\SEMESTER 4\\\\RESEARCH PROJECT\\\\Data\\\\country_of_origin\\\\SA2-based_T08_Country_of_Birth_of_Person_by_Sex_as_at_2011-08-11.csv (29)\\\\ABS_CENSUS2011_T08-8276569059604784343.csv', 'D:\\\\Master of IT\\\\SEMESTER 4\\\\RESEARCH PROJECT\\\\Data\\\\country_of_origin\\\\SA2-based_T08_Country_of_Birth_of_Person_by_Sex_as_at_2011-08-11.csv (3)\\\\ABS_CENSUS2011_T08-3376593383044549661.csv', 'D:\\\\Master of IT\\\\SEMESTER 4\\\\RESEARCH PROJECT\\\\Data\\\\country_of_origin\\\\SA2-based_T08_Country_of_Birth_of_Person_by_Sex_as_at_2011-08-11.csv (4)\\\\ABS_CENSUS2011_T08-1330594876700270991.csv', 'D:\\\\Master of IT\\\\SEMESTER 4\\\\RESEARCH PROJECT\\\\Data\\\\country_of_origin\\\\SA2-based_T08_Country_of_Birth_of_Person_by_Sex_as_at_2011-08-11.csv (5)\\\\ABS_CENSUS2011_T08-2639004630014199116.csv', 'D:\\\\Master of IT\\\\SEMESTER 4\\\\RESEARCH PROJECT\\\\Data\\\\country_of_origin\\\\SA2-based_T08_Country_of_Birth_of_Person_by_Sex_as_at_2011-08-11.csv (6)\\\\ABS_CENSUS2011_T08-8107777825824768447.csv', 'D:\\\\Master of IT\\\\SEMESTER 4\\\\RESEARCH PROJECT\\\\Data\\\\country_of_origin\\\\SA2-based_T08_Country_of_Birth_of_Person_by_Sex_as_at_2011-08-11.csv (7)\\\\ABS_CENSUS2011_T08-2231422485047885411.csv', 'D:\\\\Master of IT\\\\SEMESTER 4\\\\RESEARCH PROJECT\\\\Data\\\\country_of_origin\\\\SA2-based_T08_Country_of_Birth_of_Person_by_Sex_as_at_2011-08-11.csv (8)\\\\ABS_CENSUS2011_T08-2525064847487440137.csv', 'D:\\\\Master of IT\\\\SEMESTER 4\\\\RESEARCH PROJECT\\\\Data\\\\country_of_origin\\\\SA2-based_T08_Country_of_Birth_of_Person_by_Sex_as_at_2011-08-11.csv (9)\\\\ABS_CENSUS2011_T08-1074275801724189104.csv']\n"
     ]
    }
   ],
   "source": [
    "def csvImporter(file):\n",
    "    tempDf = pd.read_csv(file,skiprows=1,names=column_names)\n",
    "    return tempDf\n",
    "\n",
    "importData()"
   ]
  },
  {
   "cell_type": "code",
   "execution_count": 5,
   "id": "a3d3fa9d",
   "metadata": {},
   "outputs": [
    {
     "data": {
      "text/html": [
       "<div>\n",
       "<style scoped>\n",
       "    .dataframe tbody tr th:only-of-type {\n",
       "        vertical-align: middle;\n",
       "    }\n",
       "\n",
       "    .dataframe tbody tr th {\n",
       "        vertical-align: top;\n",
       "    }\n",
       "\n",
       "    .dataframe thead th {\n",
       "        text-align: right;\n",
       "    }\n",
       "</style>\n",
       "<table border=\"1\" class=\"dataframe\">\n",
       "  <thead>\n",
       "    <tr style=\"text-align: right;\">\n",
       "      <th></th>\n",
       "      <th>YEAR</th>\n",
       "      <th>BPLP</th>\n",
       "      <th>STATE</th>\n",
       "      <th>REGIONTYPE</th>\n",
       "      <th>REGION</th>\n",
       "      <th>FREQUENCY</th>\n",
       "      <th>MALES</th>\n",
       "      <th>FEMALES</th>\n",
       "      <th>TOTAL</th>\n",
       "    </tr>\n",
       "  </thead>\n",
       "  <tbody>\n",
       "    <tr>\n",
       "      <th>0</th>\n",
       "      <td>2006</td>\n",
       "      <td>1101</td>\n",
       "      <td>1</td>\n",
       "      <td>SA2</td>\n",
       "      <td>101011001</td>\n",
       "      <td>A</td>\n",
       "      <td>9650</td>\n",
       "      <td>9298</td>\n",
       "      <td>18948</td>\n",
       "    </tr>\n",
       "    <tr>\n",
       "      <th>1</th>\n",
       "      <td>2006</td>\n",
       "      <td>1101</td>\n",
       "      <td>1</td>\n",
       "      <td>SA2</td>\n",
       "      <td>101011002</td>\n",
       "      <td>A</td>\n",
       "      <td>4693</td>\n",
       "      <td>4497</td>\n",
       "      <td>9190</td>\n",
       "    </tr>\n",
       "    <tr>\n",
       "      <th>2</th>\n",
       "      <td>2006</td>\n",
       "      <td>1101</td>\n",
       "      <td>1</td>\n",
       "      <td>SA2</td>\n",
       "      <td>101011003</td>\n",
       "      <td>A</td>\n",
       "      <td>2495</td>\n",
       "      <td>2639</td>\n",
       "      <td>5134</td>\n",
       "    </tr>\n",
       "    <tr>\n",
       "      <th>3</th>\n",
       "      <td>2006</td>\n",
       "      <td>1101</td>\n",
       "      <td>1</td>\n",
       "      <td>SA2</td>\n",
       "      <td>101011004</td>\n",
       "      <td>A</td>\n",
       "      <td>3673</td>\n",
       "      <td>3660</td>\n",
       "      <td>7333</td>\n",
       "    </tr>\n",
       "    <tr>\n",
       "      <th>4</th>\n",
       "      <td>2006</td>\n",
       "      <td>1101</td>\n",
       "      <td>1</td>\n",
       "      <td>SA2</td>\n",
       "      <td>101011005</td>\n",
       "      <td>A</td>\n",
       "      <td>4323</td>\n",
       "      <td>4608</td>\n",
       "      <td>8931</td>\n",
       "    </tr>\n",
       "    <tr>\n",
       "      <th>...</th>\n",
       "      <td>...</td>\n",
       "      <td>...</td>\n",
       "      <td>...</td>\n",
       "      <td>...</td>\n",
       "      <td>...</td>\n",
       "      <td>...</td>\n",
       "      <td>...</td>\n",
       "      <td>...</td>\n",
       "      <td>...</td>\n",
       "    </tr>\n",
       "    <tr>\n",
       "      <th>2200</th>\n",
       "      <td>2006</td>\n",
       "      <td>1101</td>\n",
       "      <td>8</td>\n",
       "      <td>SA2</td>\n",
       "      <td>897979799</td>\n",
       "      <td>A</td>\n",
       "      <td>0</td>\n",
       "      <td>0</td>\n",
       "      <td>0</td>\n",
       "    </tr>\n",
       "    <tr>\n",
       "      <th>2201</th>\n",
       "      <td>2006</td>\n",
       "      <td>1101</td>\n",
       "      <td>9</td>\n",
       "      <td>SA2</td>\n",
       "      <td>901011001</td>\n",
       "      <td>A</td>\n",
       "      <td>387</td>\n",
       "      <td>283</td>\n",
       "      <td>670</td>\n",
       "    </tr>\n",
       "    <tr>\n",
       "      <th>2202</th>\n",
       "      <td>2006</td>\n",
       "      <td>1101</td>\n",
       "      <td>9</td>\n",
       "      <td>SA2</td>\n",
       "      <td>901021002</td>\n",
       "      <td>A</td>\n",
       "      <td>277</td>\n",
       "      <td>272</td>\n",
       "      <td>549</td>\n",
       "    </tr>\n",
       "    <tr>\n",
       "      <th>2203</th>\n",
       "      <td>2006</td>\n",
       "      <td>1101</td>\n",
       "      <td>9</td>\n",
       "      <td>SA2</td>\n",
       "      <td>901031003</td>\n",
       "      <td>A</td>\n",
       "      <td>223</td>\n",
       "      <td>162</td>\n",
       "      <td>385</td>\n",
       "    </tr>\n",
       "    <tr>\n",
       "      <th>2204</th>\n",
       "      <td>2006</td>\n",
       "      <td>1101</td>\n",
       "      <td>9</td>\n",
       "      <td>SA2</td>\n",
       "      <td>997979799</td>\n",
       "      <td>A</td>\n",
       "      <td>0</td>\n",
       "      <td>0</td>\n",
       "      <td>0</td>\n",
       "    </tr>\n",
       "  </tbody>\n",
       "</table>\n",
       "<p>2205 rows × 9 columns</p>\n",
       "</div>"
      ],
      "text/plain": [
       "      YEAR  BPLP  STATE REGIONTYPE     REGION FREQUENCY  MALES  FEMALES  TOTAL\n",
       "0     2006  1101      1        SA2  101011001         A   9650     9298  18948\n",
       "1     2006  1101      1        SA2  101011002         A   4693     4497   9190\n",
       "2     2006  1101      1        SA2  101011003         A   2495     2639   5134\n",
       "3     2006  1101      1        SA2  101011004         A   3673     3660   7333\n",
       "4     2006  1101      1        SA2  101011005         A   4323     4608   8931\n",
       "...    ...   ...    ...        ...        ...       ...    ...      ...    ...\n",
       "2200  2006  1101      8        SA2  897979799         A      0        0      0\n",
       "2201  2006  1101      9        SA2  901011001         A    387      283    670\n",
       "2202  2006  1101      9        SA2  901021002         A    277      272    549\n",
       "2203  2006  1101      9        SA2  901031003         A    223      162    385\n",
       "2204  2006  1101      9        SA2  997979799         A      0        0      0\n",
       "\n",
       "[2205 rows x 9 columns]"
      ]
     },
     "execution_count": 5,
     "metadata": {},
     "output_type": "execute_result"
    }
   ],
   "source": [
    "df = pd.concat(dataFrames1, axis=0)\n",
    "dataFrames1[0]"
   ]
  },
  {
   "cell_type": "code",
   "execution_count": 6,
   "id": "90e11c5e",
   "metadata": {},
   "outputs": [
    {
     "data": {
      "application/vnd.jupyter.widget-view+json": {
       "model_id": "e292cc3d77604a94b80af721a6c7d3dd"
      },
      "text/html": [
       "<div>\n",
       "<style scoped>\n",
       "    .dataframe tbody tr th:only-of-type {\n",
       "        vertical-align: middle;\n",
       "    }\n",
       "\n",
       "    .dataframe tbody tr th {\n",
       "        vertical-align: top;\n",
       "    }\n",
       "\n",
       "    .dataframe thead th {\n",
       "        text-align: right;\n",
       "    }\n",
       "</style>\n",
       "<table border=\"1\" class=\"dataframe\">\n",
       "  <thead>\n",
       "    <tr style=\"text-align: right;\">\n",
       "      <th></th>\n",
       "      <th>YEAR</th>\n",
       "      <th>BPLP</th>\n",
       "      <th>STATE</th>\n",
       "      <th>REGIONTYPE</th>\n",
       "      <th>REGION</th>\n",
       "      <th>FREQUENCY</th>\n",
       "      <th>MALES</th>\n",
       "      <th>FEMALES</th>\n",
       "      <th>TOTAL</th>\n",
       "    </tr>\n",
       "  </thead>\n",
       "  <tbody>\n",
       "    <tr>\n",
       "      <th>0</th>\n",
       "      <td>2006</td>\n",
       "      <td>1101</td>\n",
       "      <td>1</td>\n",
       "      <td>SA2</td>\n",
       "      <td>101011001</td>\n",
       "      <td>A</td>\n",
       "      <td>9650</td>\n",
       "      <td>9298</td>\n",
       "      <td>18948</td>\n",
       "    </tr>\n",
       "    <tr>\n",
       "      <th>1</th>\n",
       "      <td>2006</td>\n",
       "      <td>1101</td>\n",
       "      <td>1</td>\n",
       "      <td>SA2</td>\n",
       "      <td>101011002</td>\n",
       "      <td>A</td>\n",
       "      <td>4693</td>\n",
       "      <td>4497</td>\n",
       "      <td>9190</td>\n",
       "    </tr>\n",
       "    <tr>\n",
       "      <th>2</th>\n",
       "      <td>2006</td>\n",
       "      <td>1101</td>\n",
       "      <td>1</td>\n",
       "      <td>SA2</td>\n",
       "      <td>101011003</td>\n",
       "      <td>A</td>\n",
       "      <td>2495</td>\n",
       "      <td>2639</td>\n",
       "      <td>5134</td>\n",
       "    </tr>\n",
       "    <tr>\n",
       "      <th>3</th>\n",
       "      <td>2006</td>\n",
       "      <td>1101</td>\n",
       "      <td>1</td>\n",
       "      <td>SA2</td>\n",
       "      <td>101011004</td>\n",
       "      <td>A</td>\n",
       "      <td>3673</td>\n",
       "      <td>3660</td>\n",
       "      <td>7333</td>\n",
       "    </tr>\n",
       "    <tr>\n",
       "      <th>4</th>\n",
       "      <td>2006</td>\n",
       "      <td>1101</td>\n",
       "      <td>1</td>\n",
       "      <td>SA2</td>\n",
       "      <td>101011005</td>\n",
       "      <td>A</td>\n",
       "      <td>4323</td>\n",
       "      <td>4608</td>\n",
       "      <td>8931</td>\n",
       "    </tr>\n",
       "    <tr>\n",
       "      <th>...</th>\n",
       "      <td>...</td>\n",
       "      <td>...</td>\n",
       "      <td>...</td>\n",
       "      <td>...</td>\n",
       "      <td>...</td>\n",
       "      <td>...</td>\n",
       "      <td>...</td>\n",
       "      <td>...</td>\n",
       "      <td>...</td>\n",
       "    </tr>\n",
       "    <tr>\n",
       "      <th>2200</th>\n",
       "      <td>2001</td>\n",
       "      <td>3207</td>\n",
       "      <td>8</td>\n",
       "      <td>SA2</td>\n",
       "      <td>897979799</td>\n",
       "      <td>A</td>\n",
       "      <td>0</td>\n",
       "      <td>0</td>\n",
       "      <td>0</td>\n",
       "    </tr>\n",
       "    <tr>\n",
       "      <th>2201</th>\n",
       "      <td>2001</td>\n",
       "      <td>3207</td>\n",
       "      <td>9</td>\n",
       "      <td>SA2</td>\n",
       "      <td>901011001</td>\n",
       "      <td>A</td>\n",
       "      <td>0</td>\n",
       "      <td>0</td>\n",
       "      <td>0</td>\n",
       "    </tr>\n",
       "    <tr>\n",
       "      <th>2202</th>\n",
       "      <td>2001</td>\n",
       "      <td>3207</td>\n",
       "      <td>9</td>\n",
       "      <td>SA2</td>\n",
       "      <td>901021002</td>\n",
       "      <td>A</td>\n",
       "      <td>0</td>\n",
       "      <td>0</td>\n",
       "      <td>0</td>\n",
       "    </tr>\n",
       "    <tr>\n",
       "      <th>2203</th>\n",
       "      <td>2001</td>\n",
       "      <td>3207</td>\n",
       "      <td>9</td>\n",
       "      <td>SA2</td>\n",
       "      <td>901031003</td>\n",
       "      <td>A</td>\n",
       "      <td>0</td>\n",
       "      <td>0</td>\n",
       "      <td>0</td>\n",
       "    </tr>\n",
       "    <tr>\n",
       "      <th>2204</th>\n",
       "      <td>2001</td>\n",
       "      <td>3207</td>\n",
       "      <td>9</td>\n",
       "      <td>SA2</td>\n",
       "      <td>997979799</td>\n",
       "      <td>A</td>\n",
       "      <td>0</td>\n",
       "      <td>0</td>\n",
       "      <td>0</td>\n",
       "    </tr>\n",
       "  </tbody>\n",
       "</table>\n",
       "<p>210043 rows × 9 columns</p>\n",
       "</div>"
      ],
      "text/plain": [
       "      YEAR  BPLP  STATE REGIONTYPE     REGION FREQUENCY  MALES  FEMALES  TOTAL\n",
       "0     2006  1101      1        SA2  101011001         A   9650     9298  18948\n",
       "1     2006  1101      1        SA2  101011002         A   4693     4497   9190\n",
       "2     2006  1101      1        SA2  101011003         A   2495     2639   5134\n",
       "3     2006  1101      1        SA2  101011004         A   3673     3660   7333\n",
       "4     2006  1101      1        SA2  101011005         A   4323     4608   8931\n",
       "...    ...   ...    ...        ...        ...       ...    ...      ...    ...\n",
       "2200  2001  3207      8        SA2  897979799         A      0        0      0\n",
       "2201  2001  3207      9        SA2  901011001         A      0        0      0\n",
       "2202  2001  3207      9        SA2  901021002         A      0        0      0\n",
       "2203  2001  3207      9        SA2  901031003         A      0        0      0\n",
       "2204  2001  3207      9        SA2  997979799         A      0        0      0\n",
       "\n",
       "[210043 rows x 9 columns]"
      ]
     },
     "metadata": {},
     "output_type": "display_data"
    }
   ],
   "source": [
    "#column_names = [\"YEAR\",\"BPLP\",\"REGIONTYPE\",\"REGION\",\"FREQUENCY\",\"MALES\",\"FEMALES\",\"TOTAL\"]\n",
    "#df = pd.DataFrame(columns = column_names,df)\n",
    "import bamboolib\n",
    "\n",
    "df"
   ]
  },
  {
   "cell_type": "code",
   "execution_count": 7,
   "id": "e74464dd",
   "metadata": {},
   "outputs": [
    {
     "data": {
      "application/vnd.jupyter.widget-view+json": {
       "model_id": "58167a0e2a5e4285a294340c46d53f88"
      },
      "text/html": [
       "<div>\n",
       "<style scoped>\n",
       "    .dataframe tbody tr th:only-of-type {\n",
       "        vertical-align: middle;\n",
       "    }\n",
       "\n",
       "    .dataframe tbody tr th {\n",
       "        vertical-align: top;\n",
       "    }\n",
       "\n",
       "    .dataframe thead th {\n",
       "        text-align: right;\n",
       "    }\n",
       "</style>\n",
       "<table border=\"1\" class=\"dataframe\">\n",
       "  <thead>\n",
       "    <tr style=\"text-align: right;\">\n",
       "      <th></th>\n",
       "      <th>year</th>\n",
       "      <th>bplp</th>\n",
       "      <th>state</th>\n",
       "      <th>regiontype</th>\n",
       "      <th>region</th>\n",
       "      <th>frequency</th>\n",
       "      <th>males_born_os</th>\n",
       "      <th>females_born_os</th>\n",
       "      <th>total</th>\n",
       "    </tr>\n",
       "  </thead>\n",
       "  <tbody>\n",
       "    <tr>\n",
       "      <th>0</th>\n",
       "      <td>2006</td>\n",
       "      <td>1101</td>\n",
       "      <td>1</td>\n",
       "      <td>SA2</td>\n",
       "      <td>101011001</td>\n",
       "      <td>A</td>\n",
       "      <td>9650</td>\n",
       "      <td>9298</td>\n",
       "      <td>18948</td>\n",
       "    </tr>\n",
       "    <tr>\n",
       "      <th>1</th>\n",
       "      <td>2006</td>\n",
       "      <td>1101</td>\n",
       "      <td>1</td>\n",
       "      <td>SA2</td>\n",
       "      <td>101011002</td>\n",
       "      <td>A</td>\n",
       "      <td>4693</td>\n",
       "      <td>4497</td>\n",
       "      <td>9190</td>\n",
       "    </tr>\n",
       "    <tr>\n",
       "      <th>2</th>\n",
       "      <td>2006</td>\n",
       "      <td>1101</td>\n",
       "      <td>1</td>\n",
       "      <td>SA2</td>\n",
       "      <td>101011003</td>\n",
       "      <td>A</td>\n",
       "      <td>2495</td>\n",
       "      <td>2639</td>\n",
       "      <td>5134</td>\n",
       "    </tr>\n",
       "    <tr>\n",
       "      <th>3</th>\n",
       "      <td>2006</td>\n",
       "      <td>1101</td>\n",
       "      <td>1</td>\n",
       "      <td>SA2</td>\n",
       "      <td>101011004</td>\n",
       "      <td>A</td>\n",
       "      <td>3673</td>\n",
       "      <td>3660</td>\n",
       "      <td>7333</td>\n",
       "    </tr>\n",
       "    <tr>\n",
       "      <th>4</th>\n",
       "      <td>2006</td>\n",
       "      <td>1101</td>\n",
       "      <td>1</td>\n",
       "      <td>SA2</td>\n",
       "      <td>101011005</td>\n",
       "      <td>A</td>\n",
       "      <td>4323</td>\n",
       "      <td>4608</td>\n",
       "      <td>8931</td>\n",
       "    </tr>\n",
       "    <tr>\n",
       "      <th>...</th>\n",
       "      <td>...</td>\n",
       "      <td>...</td>\n",
       "      <td>...</td>\n",
       "      <td>...</td>\n",
       "      <td>...</td>\n",
       "      <td>...</td>\n",
       "      <td>...</td>\n",
       "      <td>...</td>\n",
       "      <td>...</td>\n",
       "    </tr>\n",
       "    <tr>\n",
       "      <th>210038</th>\n",
       "      <td>2001</td>\n",
       "      <td>3207</td>\n",
       "      <td>8</td>\n",
       "      <td>SA2</td>\n",
       "      <td>897979799</td>\n",
       "      <td>A</td>\n",
       "      <td>0</td>\n",
       "      <td>0</td>\n",
       "      <td>0</td>\n",
       "    </tr>\n",
       "    <tr>\n",
       "      <th>210039</th>\n",
       "      <td>2001</td>\n",
       "      <td>3207</td>\n",
       "      <td>9</td>\n",
       "      <td>SA2</td>\n",
       "      <td>901011001</td>\n",
       "      <td>A</td>\n",
       "      <td>0</td>\n",
       "      <td>0</td>\n",
       "      <td>0</td>\n",
       "    </tr>\n",
       "    <tr>\n",
       "      <th>210040</th>\n",
       "      <td>2001</td>\n",
       "      <td>3207</td>\n",
       "      <td>9</td>\n",
       "      <td>SA2</td>\n",
       "      <td>901021002</td>\n",
       "      <td>A</td>\n",
       "      <td>0</td>\n",
       "      <td>0</td>\n",
       "      <td>0</td>\n",
       "    </tr>\n",
       "    <tr>\n",
       "      <th>210041</th>\n",
       "      <td>2001</td>\n",
       "      <td>3207</td>\n",
       "      <td>9</td>\n",
       "      <td>SA2</td>\n",
       "      <td>901031003</td>\n",
       "      <td>A</td>\n",
       "      <td>0</td>\n",
       "      <td>0</td>\n",
       "      <td>0</td>\n",
       "    </tr>\n",
       "    <tr>\n",
       "      <th>210042</th>\n",
       "      <td>2001</td>\n",
       "      <td>3207</td>\n",
       "      <td>9</td>\n",
       "      <td>SA2</td>\n",
       "      <td>997979799</td>\n",
       "      <td>A</td>\n",
       "      <td>0</td>\n",
       "      <td>0</td>\n",
       "      <td>0</td>\n",
       "    </tr>\n",
       "  </tbody>\n",
       "</table>\n",
       "<p>210043 rows × 9 columns</p>\n",
       "</div>"
      ],
      "text/plain": [
       "        year  bplp  state regiontype     region frequency  males_born_os  \\\n",
       "0       2006  1101      1        SA2  101011001         A           9650   \n",
       "1       2006  1101      1        SA2  101011002         A           4693   \n",
       "2       2006  1101      1        SA2  101011003         A           2495   \n",
       "3       2006  1101      1        SA2  101011004         A           3673   \n",
       "4       2006  1101      1        SA2  101011005         A           4323   \n",
       "...      ...   ...    ...        ...        ...       ...            ...   \n",
       "210038  2001  3207      8        SA2  897979799         A              0   \n",
       "210039  2001  3207      9        SA2  901011001         A              0   \n",
       "210040  2001  3207      9        SA2  901021002         A              0   \n",
       "210041  2001  3207      9        SA2  901031003         A              0   \n",
       "210042  2001  3207      9        SA2  997979799         A              0   \n",
       "\n",
       "        females_born_os  total  \n",
       "0                  9298  18948  \n",
       "1                  4497   9190  \n",
       "2                  2639   5134  \n",
       "3                  3660   7333  \n",
       "4                  4608   8931  \n",
       "...                 ...    ...  \n",
       "210038                0      0  \n",
       "210039                0      0  \n",
       "210040                0      0  \n",
       "210041                0      0  \n",
       "210042                0      0  \n",
       "\n",
       "[210043 rows x 9 columns]"
      ]
     },
     "metadata": {},
     "output_type": "display_data"
    }
   ],
   "source": [
    "df1 = df.reset_index(drop=True)\n",
    "cleaned_column_names = (df1.columns\n",
    "                        .str.strip()\n",
    "                        .str.replace('((?<=[a-z0-9])[A-Z]|(?!^)[A-Z](?=[a-z]))', r'_\\1')\n",
    "                        .str.lower()\n",
    "                        .str.replace('[ _-]+', '_')\n",
    "                        .str.replace('[}{)(><.!?\\\\\\\\:;,-]', ''))\n",
    "df1.columns = cleaned_column_names\n",
    "df1 = df1.rename(columns={'males': 'males_born_os', 'females': 'females_born_os'})\n",
    "df1"
   ]
  },
  {
   "cell_type": "code",
   "execution_count": 11,
   "id": "e8de8a81",
   "metadata": {
    "scrolled": true
   },
   "outputs": [
    {
     "data": {
      "application/vnd.jupyter.widget-view+json": {
       "model_id": "4d6a4eefb4a64ae8868ca8b127c3b11d"
      },
      "text/html": [
       "<div>\n",
       "<style scoped>\n",
       "    .dataframe tbody tr th:only-of-type {\n",
       "        vertical-align: middle;\n",
       "    }\n",
       "\n",
       "    .dataframe tbody tr th {\n",
       "        vertical-align: top;\n",
       "    }\n",
       "\n",
       "    .dataframe thead th {\n",
       "        text-align: right;\n",
       "    }\n",
       "</style>\n",
       "<table border=\"1\" class=\"dataframe\">\n",
       "  <thead>\n",
       "    <tr style=\"text-align: right;\">\n",
       "      <th></th>\n",
       "      <th>bplp</th>\n",
       "      <th>TOTAL_sum</th>\n",
       "    </tr>\n",
       "  </thead>\n",
       "  <tbody>\n",
       "    <tr>\n",
       "      <th>0</th>\n",
       "      <td>1101</td>\n",
       "      <td>56349729</td>\n",
       "    </tr>\n",
       "    <tr>\n",
       "      <th>1</th>\n",
       "      <td>1201</td>\n",
       "      <td>355757</td>\n",
       "    </tr>\n",
       "    <tr>\n",
       "      <th>2</th>\n",
       "      <td>1502</td>\n",
       "      <td>149423</td>\n",
       "    </tr>\n",
       "    <tr>\n",
       "      <th>3</th>\n",
       "      <td>2100</td>\n",
       "      <td>2139231</td>\n",
       "    </tr>\n",
       "    <tr>\n",
       "      <th>4</th>\n",
       "      <td>2201</td>\n",
       "      <td>167860</td>\n",
       "    </tr>\n",
       "    <tr>\n",
       "      <th>5</th>\n",
       "      <td>2304</td>\n",
       "      <td>214530</td>\n",
       "    </tr>\n",
       "    <tr>\n",
       "      <th>6</th>\n",
       "      <td>2308</td>\n",
       "      <td>238326</td>\n",
       "    </tr>\n",
       "    <tr>\n",
       "      <th>7</th>\n",
       "      <td>3104</td>\n",
       "      <td>603216</td>\n",
       "    </tr>\n",
       "    <tr>\n",
       "      <th>8</th>\n",
       "      <td>3105</td>\n",
       "      <td>131908</td>\n",
       "    </tr>\n",
       "    <tr>\n",
       "      <th>9</th>\n",
       "      <td>3200</td>\n",
       "      <td>113770</td>\n",
       "    </tr>\n",
       "    <tr>\n",
       "      <th>10</th>\n",
       "      <td>3202</td>\n",
       "      <td>74155</td>\n",
       "    </tr>\n",
       "    <tr>\n",
       "      <th>11</th>\n",
       "      <td>3204</td>\n",
       "      <td>51919</td>\n",
       "    </tr>\n",
       "    <tr>\n",
       "      <th>12</th>\n",
       "      <td>3206</td>\n",
       "      <td>124382</td>\n",
       "    </tr>\n",
       "    <tr>\n",
       "      <th>13</th>\n",
       "      <td>3207</td>\n",
       "      <td>326416</td>\n",
       "    </tr>\n",
       "    <tr>\n",
       "      <th>14</th>\n",
       "      <td>3307</td>\n",
       "      <td>100942</td>\n",
       "    </tr>\n",
       "    <tr>\n",
       "      <th>15</th>\n",
       "      <td>4102</td>\n",
       "      <td>103413</td>\n",
       "    </tr>\n",
       "    <tr>\n",
       "      <th>16</th>\n",
       "      <td>4204</td>\n",
       "      <td>80673</td>\n",
       "    </tr>\n",
       "    <tr>\n",
       "      <th>17</th>\n",
       "      <td>4208</td>\n",
       "      <td>151308</td>\n",
       "    </tr>\n",
       "    <tr>\n",
       "      <th>18</th>\n",
       "      <td>4215</td>\n",
       "      <td>93192</td>\n",
       "    </tr>\n",
       "    <tr>\n",
       "      <th>19</th>\n",
       "      <td>5102</td>\n",
       "      <td>75829</td>\n",
       "    </tr>\n",
       "    <tr>\n",
       "      <th>20</th>\n",
       "      <td>5104</td>\n",
       "      <td>99612</td>\n",
       "    </tr>\n",
       "    <tr>\n",
       "      <th>21</th>\n",
       "      <td>5105</td>\n",
       "      <td>499676</td>\n",
       "    </tr>\n",
       "    <tr>\n",
       "      <th>22</th>\n",
       "      <td>5202</td>\n",
       "      <td>161348</td>\n",
       "    </tr>\n",
       "    <tr>\n",
       "      <th>23</th>\n",
       "      <td>5203</td>\n",
       "      <td>208535</td>\n",
       "    </tr>\n",
       "    <tr>\n",
       "      <th>24</th>\n",
       "      <td>5204</td>\n",
       "      <td>395704</td>\n",
       "    </tr>\n",
       "    <tr>\n",
       "      <th>25</th>\n",
       "      <td>5205</td>\n",
       "      <td>122062</td>\n",
       "    </tr>\n",
       "    <tr>\n",
       "      <th>26</th>\n",
       "      <td>6101</td>\n",
       "      <td>525549</td>\n",
       "    </tr>\n",
       "    <tr>\n",
       "      <th>27</th>\n",
       "      <td>6102</td>\n",
       "      <td>67229</td>\n",
       "    </tr>\n",
       "    <tr>\n",
       "      <th>28</th>\n",
       "      <td>6201</td>\n",
       "      <td>25468</td>\n",
       "    </tr>\n",
       "    <tr>\n",
       "      <th>29</th>\n",
       "      <td>6203</td>\n",
       "      <td>166185</td>\n",
       "    </tr>\n",
       "    <tr>\n",
       "      <th>30</th>\n",
       "      <td>7103</td>\n",
       "      <td>537921</td>\n",
       "    </tr>\n",
       "    <tr>\n",
       "      <th>31</th>\n",
       "      <td>7107</td>\n",
       "      <td>53470</td>\n",
       "    </tr>\n",
       "    <tr>\n",
       "      <th>32</th>\n",
       "      <td>8102</td>\n",
       "      <td>150445</td>\n",
       "    </tr>\n",
       "    <tr>\n",
       "      <th>33</th>\n",
       "      <td>8104</td>\n",
       "      <td>192416</td>\n",
       "    </tr>\n",
       "    <tr>\n",
       "      <th>34</th>\n",
       "      <td>9225</td>\n",
       "      <td>249797</td>\n",
       "    </tr>\n",
       "    <tr>\n",
       "      <th>35</th>\n",
       "      <td>BE</td>\n",
       "      <td>604801</td>\n",
       "    </tr>\n",
       "    <tr>\n",
       "      <th>36</th>\n",
       "      <td>V</td>\n",
       "      <td>425811</td>\n",
       "    </tr>\n",
       "    <tr>\n",
       "      <th>37</th>\n",
       "      <td>Z</td>\n",
       "      <td>3596134</td>\n",
       "    </tr>\n",
       "  </tbody>\n",
       "</table>\n",
       "</div>"
      ],
      "text/plain": [
       "    bplp  TOTAL_sum\n",
       "0   1101   56349729\n",
       "1   1201     355757\n",
       "2   1502     149423\n",
       "3   2100    2139231\n",
       "4   2201     167860\n",
       "5   2304     214530\n",
       "6   2308     238326\n",
       "7   3104     603216\n",
       "8   3105     131908\n",
       "9   3200     113770\n",
       "10  3202      74155\n",
       "11  3204      51919\n",
       "12  3206     124382\n",
       "13  3207     326416\n",
       "14  3307     100942\n",
       "15  4102     103413\n",
       "16  4204      80673\n",
       "17  4208     151308\n",
       "18  4215      93192\n",
       "19  5102      75829\n",
       "20  5104      99612\n",
       "21  5105     499676\n",
       "22  5202     161348\n",
       "23  5203     208535\n",
       "24  5204     395704\n",
       "25  5205     122062\n",
       "26  6101     525549\n",
       "27  6102      67229\n",
       "28  6201      25468\n",
       "29  6203     166185\n",
       "30  7103     537921\n",
       "31  7107      53470\n",
       "32  8102     150445\n",
       "33  8104     192416\n",
       "34  9225     249797\n",
       "35    BE     604801\n",
       "36     V     425811\n",
       "37     Z    3596134"
      ]
     },
     "metadata": {},
     "output_type": "display_data"
    }
   ],
   "source": [
    "country_of_origin_df = df1.groupby(['bplp']).agg(TOTAL_sum=('total', 'sum')).reset_index()\n",
    "country_of_origin_df['bplp'] = country_of_origin_df['bplp'].astype('string')\n",
    "country_of_origin_df"
   ]
  },
  {
   "cell_type": "code",
   "execution_count": 12,
   "id": "0c05e00a",
   "metadata": {},
   "outputs": [],
   "source": [
    "df1.to_csv(\"rodrigo_processed_data.csv\")"
   ]
  },
  {
   "cell_type": "code",
   "execution_count": null,
   "id": "8dee2abc",
   "metadata": {},
   "outputs": [],
   "source": []
  },
  {
   "cell_type": "code",
   "execution_count": 16,
   "id": "7d6cd082",
   "metadata": {},
   "outputs": [
    {
     "data": {
      "application/vnd.plotly.v1+json": {
       "config": {
        "plotlyServerURL": "https://plot.ly"
       },
       "data": [
        {
         "alignmentgroup": "True",
         "hovertemplate": "bplp=%{x}<br>TOTAL_sum=%{y}<extra></extra>",
         "legendgroup": "1101",
         "marker": {
          "color": "#636efa"
         },
         "name": "1101",
         "offsetgroup": "1101",
         "orientation": "v",
         "showlegend": true,
         "textposition": "auto",
         "type": "bar",
         "x": [
          "1101"
         ],
         "xaxis": "x",
         "y": [
          56349729
         ],
         "yaxis": "y"
        },
        {
         "alignmentgroup": "True",
         "hovertemplate": "bplp=%{x}<br>TOTAL_sum=%{y}<extra></extra>",
         "legendgroup": "1201",
         "marker": {
          "color": "#EF553B"
         },
         "name": "1201",
         "offsetgroup": "1201",
         "orientation": "v",
         "showlegend": true,
         "textposition": "auto",
         "type": "bar",
         "x": [
          "1201"
         ],
         "xaxis": "x",
         "y": [
          355757
         ],
         "yaxis": "y"
        },
        {
         "alignmentgroup": "True",
         "hovertemplate": "bplp=%{x}<br>TOTAL_sum=%{y}<extra></extra>",
         "legendgroup": "1502",
         "marker": {
          "color": "#00cc96"
         },
         "name": "1502",
         "offsetgroup": "1502",
         "orientation": "v",
         "showlegend": true,
         "textposition": "auto",
         "type": "bar",
         "x": [
          "1502"
         ],
         "xaxis": "x",
         "y": [
          149423
         ],
         "yaxis": "y"
        },
        {
         "alignmentgroup": "True",
         "hovertemplate": "bplp=%{x}<br>TOTAL_sum=%{y}<extra></extra>",
         "legendgroup": "2100",
         "marker": {
          "color": "#ab63fa"
         },
         "name": "2100",
         "offsetgroup": "2100",
         "orientation": "v",
         "showlegend": true,
         "textposition": "auto",
         "type": "bar",
         "x": [
          "2100"
         ],
         "xaxis": "x",
         "y": [
          2139231
         ],
         "yaxis": "y"
        },
        {
         "alignmentgroup": "True",
         "hovertemplate": "bplp=%{x}<br>TOTAL_sum=%{y}<extra></extra>",
         "legendgroup": "2201",
         "marker": {
          "color": "#FFA15A"
         },
         "name": "2201",
         "offsetgroup": "2201",
         "orientation": "v",
         "showlegend": true,
         "textposition": "auto",
         "type": "bar",
         "x": [
          "2201"
         ],
         "xaxis": "x",
         "y": [
          167860
         ],
         "yaxis": "y"
        },
        {
         "alignmentgroup": "True",
         "hovertemplate": "bplp=%{x}<br>TOTAL_sum=%{y}<extra></extra>",
         "legendgroup": "2304",
         "marker": {
          "color": "#19d3f3"
         },
         "name": "2304",
         "offsetgroup": "2304",
         "orientation": "v",
         "showlegend": true,
         "textposition": "auto",
         "type": "bar",
         "x": [
          "2304"
         ],
         "xaxis": "x",
         "y": [
          214530
         ],
         "yaxis": "y"
        },
        {
         "alignmentgroup": "True",
         "hovertemplate": "bplp=%{x}<br>TOTAL_sum=%{y}<extra></extra>",
         "legendgroup": "2308",
         "marker": {
          "color": "#FF6692"
         },
         "name": "2308",
         "offsetgroup": "2308",
         "orientation": "v",
         "showlegend": true,
         "textposition": "auto",
         "type": "bar",
         "x": [
          "2308"
         ],
         "xaxis": "x",
         "y": [
          238326
         ],
         "yaxis": "y"
        },
        {
         "alignmentgroup": "True",
         "hovertemplate": "bplp=%{x}<br>TOTAL_sum=%{y}<extra></extra>",
         "legendgroup": "3104",
         "marker": {
          "color": "#B6E880"
         },
         "name": "3104",
         "offsetgroup": "3104",
         "orientation": "v",
         "showlegend": true,
         "textposition": "auto",
         "type": "bar",
         "x": [
          "3104"
         ],
         "xaxis": "x",
         "y": [
          603216
         ],
         "yaxis": "y"
        },
        {
         "alignmentgroup": "True",
         "hovertemplate": "bplp=%{x}<br>TOTAL_sum=%{y}<extra></extra>",
         "legendgroup": "3105",
         "marker": {
          "color": "#FF97FF"
         },
         "name": "3105",
         "offsetgroup": "3105",
         "orientation": "v",
         "showlegend": true,
         "textposition": "auto",
         "type": "bar",
         "x": [
          "3105"
         ],
         "xaxis": "x",
         "y": [
          131908
         ],
         "yaxis": "y"
        },
        {
         "alignmentgroup": "True",
         "hovertemplate": "bplp=%{x}<br>TOTAL_sum=%{y}<extra></extra>",
         "legendgroup": "3200",
         "marker": {
          "color": "#FECB52"
         },
         "name": "3200",
         "offsetgroup": "3200",
         "orientation": "v",
         "showlegend": true,
         "textposition": "auto",
         "type": "bar",
         "x": [
          "3200"
         ],
         "xaxis": "x",
         "y": [
          113770
         ],
         "yaxis": "y"
        },
        {
         "alignmentgroup": "True",
         "hovertemplate": "bplp=%{x}<br>TOTAL_sum=%{y}<extra></extra>",
         "legendgroup": "3202",
         "marker": {
          "color": "#636efa"
         },
         "name": "3202",
         "offsetgroup": "3202",
         "orientation": "v",
         "showlegend": true,
         "textposition": "auto",
         "type": "bar",
         "x": [
          "3202"
         ],
         "xaxis": "x",
         "y": [
          74155
         ],
         "yaxis": "y"
        },
        {
         "alignmentgroup": "True",
         "hovertemplate": "bplp=%{x}<br>TOTAL_sum=%{y}<extra></extra>",
         "legendgroup": "3204",
         "marker": {
          "color": "#EF553B"
         },
         "name": "3204",
         "offsetgroup": "3204",
         "orientation": "v",
         "showlegend": true,
         "textposition": "auto",
         "type": "bar",
         "x": [
          "3204"
         ],
         "xaxis": "x",
         "y": [
          51919
         ],
         "yaxis": "y"
        },
        {
         "alignmentgroup": "True",
         "hovertemplate": "bplp=%{x}<br>TOTAL_sum=%{y}<extra></extra>",
         "legendgroup": "3206",
         "marker": {
          "color": "#00cc96"
         },
         "name": "3206",
         "offsetgroup": "3206",
         "orientation": "v",
         "showlegend": true,
         "textposition": "auto",
         "type": "bar",
         "x": [
          "3206"
         ],
         "xaxis": "x",
         "y": [
          124382
         ],
         "yaxis": "y"
        },
        {
         "alignmentgroup": "True",
         "hovertemplate": "bplp=%{x}<br>TOTAL_sum=%{y}<extra></extra>",
         "legendgroup": "3207",
         "marker": {
          "color": "#ab63fa"
         },
         "name": "3207",
         "offsetgroup": "3207",
         "orientation": "v",
         "showlegend": true,
         "textposition": "auto",
         "type": "bar",
         "x": [
          "3207"
         ],
         "xaxis": "x",
         "y": [
          326416
         ],
         "yaxis": "y"
        },
        {
         "alignmentgroup": "True",
         "hovertemplate": "bplp=%{x}<br>TOTAL_sum=%{y}<extra></extra>",
         "legendgroup": "3307",
         "marker": {
          "color": "#FFA15A"
         },
         "name": "3307",
         "offsetgroup": "3307",
         "orientation": "v",
         "showlegend": true,
         "textposition": "auto",
         "type": "bar",
         "x": [
          "3307"
         ],
         "xaxis": "x",
         "y": [
          100942
         ],
         "yaxis": "y"
        },
        {
         "alignmentgroup": "True",
         "hovertemplate": "bplp=%{x}<br>TOTAL_sum=%{y}<extra></extra>",
         "legendgroup": "4102",
         "marker": {
          "color": "#19d3f3"
         },
         "name": "4102",
         "offsetgroup": "4102",
         "orientation": "v",
         "showlegend": true,
         "textposition": "auto",
         "type": "bar",
         "x": [
          "4102"
         ],
         "xaxis": "x",
         "y": [
          103413
         ],
         "yaxis": "y"
        },
        {
         "alignmentgroup": "True",
         "hovertemplate": "bplp=%{x}<br>TOTAL_sum=%{y}<extra></extra>",
         "legendgroup": "4204",
         "marker": {
          "color": "#FF6692"
         },
         "name": "4204",
         "offsetgroup": "4204",
         "orientation": "v",
         "showlegend": true,
         "textposition": "auto",
         "type": "bar",
         "x": [
          "4204"
         ],
         "xaxis": "x",
         "y": [
          80673
         ],
         "yaxis": "y"
        },
        {
         "alignmentgroup": "True",
         "hovertemplate": "bplp=%{x}<br>TOTAL_sum=%{y}<extra></extra>",
         "legendgroup": "4208",
         "marker": {
          "color": "#B6E880"
         },
         "name": "4208",
         "offsetgroup": "4208",
         "orientation": "v",
         "showlegend": true,
         "textposition": "auto",
         "type": "bar",
         "x": [
          "4208"
         ],
         "xaxis": "x",
         "y": [
          151308
         ],
         "yaxis": "y"
        },
        {
         "alignmentgroup": "True",
         "hovertemplate": "bplp=%{x}<br>TOTAL_sum=%{y}<extra></extra>",
         "legendgroup": "4215",
         "marker": {
          "color": "#FF97FF"
         },
         "name": "4215",
         "offsetgroup": "4215",
         "orientation": "v",
         "showlegend": true,
         "textposition": "auto",
         "type": "bar",
         "x": [
          "4215"
         ],
         "xaxis": "x",
         "y": [
          93192
         ],
         "yaxis": "y"
        },
        {
         "alignmentgroup": "True",
         "hovertemplate": "bplp=%{x}<br>TOTAL_sum=%{y}<extra></extra>",
         "legendgroup": "5102",
         "marker": {
          "color": "#FECB52"
         },
         "name": "5102",
         "offsetgroup": "5102",
         "orientation": "v",
         "showlegend": true,
         "textposition": "auto",
         "type": "bar",
         "x": [
          "5102"
         ],
         "xaxis": "x",
         "y": [
          75829
         ],
         "yaxis": "y"
        },
        {
         "alignmentgroup": "True",
         "hovertemplate": "bplp=%{x}<br>TOTAL_sum=%{y}<extra></extra>",
         "legendgroup": "5104",
         "marker": {
          "color": "#636efa"
         },
         "name": "5104",
         "offsetgroup": "5104",
         "orientation": "v",
         "showlegend": true,
         "textposition": "auto",
         "type": "bar",
         "x": [
          "5104"
         ],
         "xaxis": "x",
         "y": [
          99612
         ],
         "yaxis": "y"
        },
        {
         "alignmentgroup": "True",
         "hovertemplate": "bplp=%{x}<br>TOTAL_sum=%{y}<extra></extra>",
         "legendgroup": "5105",
         "marker": {
          "color": "#EF553B"
         },
         "name": "5105",
         "offsetgroup": "5105",
         "orientation": "v",
         "showlegend": true,
         "textposition": "auto",
         "type": "bar",
         "x": [
          "5105"
         ],
         "xaxis": "x",
         "y": [
          499676
         ],
         "yaxis": "y"
        },
        {
         "alignmentgroup": "True",
         "hovertemplate": "bplp=%{x}<br>TOTAL_sum=%{y}<extra></extra>",
         "legendgroup": "5202",
         "marker": {
          "color": "#00cc96"
         },
         "name": "5202",
         "offsetgroup": "5202",
         "orientation": "v",
         "showlegend": true,
         "textposition": "auto",
         "type": "bar",
         "x": [
          "5202"
         ],
         "xaxis": "x",
         "y": [
          161348
         ],
         "yaxis": "y"
        },
        {
         "alignmentgroup": "True",
         "hovertemplate": "bplp=%{x}<br>TOTAL_sum=%{y}<extra></extra>",
         "legendgroup": "5203",
         "marker": {
          "color": "#ab63fa"
         },
         "name": "5203",
         "offsetgroup": "5203",
         "orientation": "v",
         "showlegend": true,
         "textposition": "auto",
         "type": "bar",
         "x": [
          "5203"
         ],
         "xaxis": "x",
         "y": [
          208535
         ],
         "yaxis": "y"
        },
        {
         "alignmentgroup": "True",
         "hovertemplate": "bplp=%{x}<br>TOTAL_sum=%{y}<extra></extra>",
         "legendgroup": "5204",
         "marker": {
          "color": "#FFA15A"
         },
         "name": "5204",
         "offsetgroup": "5204",
         "orientation": "v",
         "showlegend": true,
         "textposition": "auto",
         "type": "bar",
         "x": [
          "5204"
         ],
         "xaxis": "x",
         "y": [
          395704
         ],
         "yaxis": "y"
        },
        {
         "alignmentgroup": "True",
         "hovertemplate": "bplp=%{x}<br>TOTAL_sum=%{y}<extra></extra>",
         "legendgroup": "5205",
         "marker": {
          "color": "#19d3f3"
         },
         "name": "5205",
         "offsetgroup": "5205",
         "orientation": "v",
         "showlegend": true,
         "textposition": "auto",
         "type": "bar",
         "x": [
          "5205"
         ],
         "xaxis": "x",
         "y": [
          122062
         ],
         "yaxis": "y"
        },
        {
         "alignmentgroup": "True",
         "hovertemplate": "bplp=%{x}<br>TOTAL_sum=%{y}<extra></extra>",
         "legendgroup": "6101",
         "marker": {
          "color": "#FF6692"
         },
         "name": "6101",
         "offsetgroup": "6101",
         "orientation": "v",
         "showlegend": true,
         "textposition": "auto",
         "type": "bar",
         "x": [
          "6101"
         ],
         "xaxis": "x",
         "y": [
          525549
         ],
         "yaxis": "y"
        },
        {
         "alignmentgroup": "True",
         "hovertemplate": "bplp=%{x}<br>TOTAL_sum=%{y}<extra></extra>",
         "legendgroup": "6102",
         "marker": {
          "color": "#B6E880"
         },
         "name": "6102",
         "offsetgroup": "6102",
         "orientation": "v",
         "showlegend": true,
         "textposition": "auto",
         "type": "bar",
         "x": [
          "6102"
         ],
         "xaxis": "x",
         "y": [
          67229
         ],
         "yaxis": "y"
        },
        {
         "alignmentgroup": "True",
         "hovertemplate": "bplp=%{x}<br>TOTAL_sum=%{y}<extra></extra>",
         "legendgroup": "6201",
         "marker": {
          "color": "#FF97FF"
         },
         "name": "6201",
         "offsetgroup": "6201",
         "orientation": "v",
         "showlegend": true,
         "textposition": "auto",
         "type": "bar",
         "x": [
          "6201"
         ],
         "xaxis": "x",
         "y": [
          25468
         ],
         "yaxis": "y"
        },
        {
         "alignmentgroup": "True",
         "hovertemplate": "bplp=%{x}<br>TOTAL_sum=%{y}<extra></extra>",
         "legendgroup": "6203",
         "marker": {
          "color": "#FECB52"
         },
         "name": "6203",
         "offsetgroup": "6203",
         "orientation": "v",
         "showlegend": true,
         "textposition": "auto",
         "type": "bar",
         "x": [
          "6203"
         ],
         "xaxis": "x",
         "y": [
          166185
         ],
         "yaxis": "y"
        },
        {
         "alignmentgroup": "True",
         "hovertemplate": "bplp=%{x}<br>TOTAL_sum=%{y}<extra></extra>",
         "legendgroup": "7103",
         "marker": {
          "color": "#636efa"
         },
         "name": "7103",
         "offsetgroup": "7103",
         "orientation": "v",
         "showlegend": true,
         "textposition": "auto",
         "type": "bar",
         "x": [
          "7103"
         ],
         "xaxis": "x",
         "y": [
          537921
         ],
         "yaxis": "y"
        },
        {
         "alignmentgroup": "True",
         "hovertemplate": "bplp=%{x}<br>TOTAL_sum=%{y}<extra></extra>",
         "legendgroup": "7107",
         "marker": {
          "color": "#EF553B"
         },
         "name": "7107",
         "offsetgroup": "7107",
         "orientation": "v",
         "showlegend": true,
         "textposition": "auto",
         "type": "bar",
         "x": [
          "7107"
         ],
         "xaxis": "x",
         "y": [
          53470
         ],
         "yaxis": "y"
        },
        {
         "alignmentgroup": "True",
         "hovertemplate": "bplp=%{x}<br>TOTAL_sum=%{y}<extra></extra>",
         "legendgroup": "8102",
         "marker": {
          "color": "#00cc96"
         },
         "name": "8102",
         "offsetgroup": "8102",
         "orientation": "v",
         "showlegend": true,
         "textposition": "auto",
         "type": "bar",
         "x": [
          "8102"
         ],
         "xaxis": "x",
         "y": [
          150445
         ],
         "yaxis": "y"
        },
        {
         "alignmentgroup": "True",
         "hovertemplate": "bplp=%{x}<br>TOTAL_sum=%{y}<extra></extra>",
         "legendgroup": "8104",
         "marker": {
          "color": "#ab63fa"
         },
         "name": "8104",
         "offsetgroup": "8104",
         "orientation": "v",
         "showlegend": true,
         "textposition": "auto",
         "type": "bar",
         "x": [
          "8104"
         ],
         "xaxis": "x",
         "y": [
          192416
         ],
         "yaxis": "y"
        },
        {
         "alignmentgroup": "True",
         "hovertemplate": "bplp=%{x}<br>TOTAL_sum=%{y}<extra></extra>",
         "legendgroup": "9225",
         "marker": {
          "color": "#FFA15A"
         },
         "name": "9225",
         "offsetgroup": "9225",
         "orientation": "v",
         "showlegend": true,
         "textposition": "auto",
         "type": "bar",
         "x": [
          "9225"
         ],
         "xaxis": "x",
         "y": [
          249797
         ],
         "yaxis": "y"
        },
        {
         "alignmentgroup": "True",
         "hovertemplate": "bplp=%{x}<br>TOTAL_sum=%{y}<extra></extra>",
         "legendgroup": "BE",
         "marker": {
          "color": "#19d3f3"
         },
         "name": "BE",
         "offsetgroup": "BE",
         "orientation": "v",
         "showlegend": true,
         "textposition": "auto",
         "type": "bar",
         "x": [
          "BE"
         ],
         "xaxis": "x",
         "y": [
          604801
         ],
         "yaxis": "y"
        },
        {
         "alignmentgroup": "True",
         "hovertemplate": "bplp=%{x}<br>TOTAL_sum=%{y}<extra></extra>",
         "legendgroup": "V",
         "marker": {
          "color": "#FF6692"
         },
         "name": "V",
         "offsetgroup": "V",
         "orientation": "v",
         "showlegend": true,
         "textposition": "auto",
         "type": "bar",
         "x": [
          "V"
         ],
         "xaxis": "x",
         "y": [
          425811
         ],
         "yaxis": "y"
        },
        {
         "alignmentgroup": "True",
         "hovertemplate": "bplp=%{x}<br>TOTAL_sum=%{y}<extra></extra>",
         "legendgroup": "Z",
         "marker": {
          "color": "#B6E880"
         },
         "name": "Z",
         "offsetgroup": "Z",
         "orientation": "v",
         "showlegend": true,
         "textposition": "auto",
         "type": "bar",
         "x": [
          "Z"
         ],
         "xaxis": "x",
         "y": [
          3596134
         ],
         "yaxis": "y"
        }
       ],
       "layout": {
        "barmode": "relative",
        "legend": {
         "title": {
          "text": "bplp"
         },
         "tracegroupgap": 0
        },
        "margin": {
         "t": 60
        },
        "template": {
         "data": {
          "bar": [
           {
            "error_x": {
             "color": "#2a3f5f"
            },
            "error_y": {
             "color": "#2a3f5f"
            },
            "marker": {
             "line": {
              "color": "#E5ECF6",
              "width": 0.5
             }
            },
            "type": "bar"
           }
          ],
          "barpolar": [
           {
            "marker": {
             "line": {
              "color": "#E5ECF6",
              "width": 0.5
             }
            },
            "type": "barpolar"
           }
          ],
          "carpet": [
           {
            "aaxis": {
             "endlinecolor": "#2a3f5f",
             "gridcolor": "white",
             "linecolor": "white",
             "minorgridcolor": "white",
             "startlinecolor": "#2a3f5f"
            },
            "baxis": {
             "endlinecolor": "#2a3f5f",
             "gridcolor": "white",
             "linecolor": "white",
             "minorgridcolor": "white",
             "startlinecolor": "#2a3f5f"
            },
            "type": "carpet"
           }
          ],
          "choropleth": [
           {
            "colorbar": {
             "outlinewidth": 0,
             "ticks": ""
            },
            "type": "choropleth"
           }
          ],
          "contour": [
           {
            "colorbar": {
             "outlinewidth": 0,
             "ticks": ""
            },
            "colorscale": [
             [
              0,
              "#0d0887"
             ],
             [
              0.1111111111111111,
              "#46039f"
             ],
             [
              0.2222222222222222,
              "#7201a8"
             ],
             [
              0.3333333333333333,
              "#9c179e"
             ],
             [
              0.4444444444444444,
              "#bd3786"
             ],
             [
              0.5555555555555556,
              "#d8576b"
             ],
             [
              0.6666666666666666,
              "#ed7953"
             ],
             [
              0.7777777777777778,
              "#fb9f3a"
             ],
             [
              0.8888888888888888,
              "#fdca26"
             ],
             [
              1,
              "#f0f921"
             ]
            ],
            "type": "contour"
           }
          ],
          "contourcarpet": [
           {
            "colorbar": {
             "outlinewidth": 0,
             "ticks": ""
            },
            "type": "contourcarpet"
           }
          ],
          "heatmap": [
           {
            "colorbar": {
             "outlinewidth": 0,
             "ticks": ""
            },
            "colorscale": [
             [
              0,
              "#0d0887"
             ],
             [
              0.1111111111111111,
              "#46039f"
             ],
             [
              0.2222222222222222,
              "#7201a8"
             ],
             [
              0.3333333333333333,
              "#9c179e"
             ],
             [
              0.4444444444444444,
              "#bd3786"
             ],
             [
              0.5555555555555556,
              "#d8576b"
             ],
             [
              0.6666666666666666,
              "#ed7953"
             ],
             [
              0.7777777777777778,
              "#fb9f3a"
             ],
             [
              0.8888888888888888,
              "#fdca26"
             ],
             [
              1,
              "#f0f921"
             ]
            ],
            "type": "heatmap"
           }
          ],
          "heatmapgl": [
           {
            "colorbar": {
             "outlinewidth": 0,
             "ticks": ""
            },
            "colorscale": [
             [
              0,
              "#0d0887"
             ],
             [
              0.1111111111111111,
              "#46039f"
             ],
             [
              0.2222222222222222,
              "#7201a8"
             ],
             [
              0.3333333333333333,
              "#9c179e"
             ],
             [
              0.4444444444444444,
              "#bd3786"
             ],
             [
              0.5555555555555556,
              "#d8576b"
             ],
             [
              0.6666666666666666,
              "#ed7953"
             ],
             [
              0.7777777777777778,
              "#fb9f3a"
             ],
             [
              0.8888888888888888,
              "#fdca26"
             ],
             [
              1,
              "#f0f921"
             ]
            ],
            "type": "heatmapgl"
           }
          ],
          "histogram": [
           {
            "marker": {
             "colorbar": {
              "outlinewidth": 0,
              "ticks": ""
             }
            },
            "type": "histogram"
           }
          ],
          "histogram2d": [
           {
            "colorbar": {
             "outlinewidth": 0,
             "ticks": ""
            },
            "colorscale": [
             [
              0,
              "#0d0887"
             ],
             [
              0.1111111111111111,
              "#46039f"
             ],
             [
              0.2222222222222222,
              "#7201a8"
             ],
             [
              0.3333333333333333,
              "#9c179e"
             ],
             [
              0.4444444444444444,
              "#bd3786"
             ],
             [
              0.5555555555555556,
              "#d8576b"
             ],
             [
              0.6666666666666666,
              "#ed7953"
             ],
             [
              0.7777777777777778,
              "#fb9f3a"
             ],
             [
              0.8888888888888888,
              "#fdca26"
             ],
             [
              1,
              "#f0f921"
             ]
            ],
            "type": "histogram2d"
           }
          ],
          "histogram2dcontour": [
           {
            "colorbar": {
             "outlinewidth": 0,
             "ticks": ""
            },
            "colorscale": [
             [
              0,
              "#0d0887"
             ],
             [
              0.1111111111111111,
              "#46039f"
             ],
             [
              0.2222222222222222,
              "#7201a8"
             ],
             [
              0.3333333333333333,
              "#9c179e"
             ],
             [
              0.4444444444444444,
              "#bd3786"
             ],
             [
              0.5555555555555556,
              "#d8576b"
             ],
             [
              0.6666666666666666,
              "#ed7953"
             ],
             [
              0.7777777777777778,
              "#fb9f3a"
             ],
             [
              0.8888888888888888,
              "#fdca26"
             ],
             [
              1,
              "#f0f921"
             ]
            ],
            "type": "histogram2dcontour"
           }
          ],
          "mesh3d": [
           {
            "colorbar": {
             "outlinewidth": 0,
             "ticks": ""
            },
            "type": "mesh3d"
           }
          ],
          "parcoords": [
           {
            "line": {
             "colorbar": {
              "outlinewidth": 0,
              "ticks": ""
             }
            },
            "type": "parcoords"
           }
          ],
          "pie": [
           {
            "automargin": true,
            "type": "pie"
           }
          ],
          "scatter": [
           {
            "marker": {
             "colorbar": {
              "outlinewidth": 0,
              "ticks": ""
             }
            },
            "type": "scatter"
           }
          ],
          "scatter3d": [
           {
            "line": {
             "colorbar": {
              "outlinewidth": 0,
              "ticks": ""
             }
            },
            "marker": {
             "colorbar": {
              "outlinewidth": 0,
              "ticks": ""
             }
            },
            "type": "scatter3d"
           }
          ],
          "scattercarpet": [
           {
            "marker": {
             "colorbar": {
              "outlinewidth": 0,
              "ticks": ""
             }
            },
            "type": "scattercarpet"
           }
          ],
          "scattergeo": [
           {
            "marker": {
             "colorbar": {
              "outlinewidth": 0,
              "ticks": ""
             }
            },
            "type": "scattergeo"
           }
          ],
          "scattergl": [
           {
            "marker": {
             "colorbar": {
              "outlinewidth": 0,
              "ticks": ""
             }
            },
            "type": "scattergl"
           }
          ],
          "scattermapbox": [
           {
            "marker": {
             "colorbar": {
              "outlinewidth": 0,
              "ticks": ""
             }
            },
            "type": "scattermapbox"
           }
          ],
          "scatterpolar": [
           {
            "marker": {
             "colorbar": {
              "outlinewidth": 0,
              "ticks": ""
             }
            },
            "type": "scatterpolar"
           }
          ],
          "scatterpolargl": [
           {
            "marker": {
             "colorbar": {
              "outlinewidth": 0,
              "ticks": ""
             }
            },
            "type": "scatterpolargl"
           }
          ],
          "scatterternary": [
           {
            "marker": {
             "colorbar": {
              "outlinewidth": 0,
              "ticks": ""
             }
            },
            "type": "scatterternary"
           }
          ],
          "surface": [
           {
            "colorbar": {
             "outlinewidth": 0,
             "ticks": ""
            },
            "colorscale": [
             [
              0,
              "#0d0887"
             ],
             [
              0.1111111111111111,
              "#46039f"
             ],
             [
              0.2222222222222222,
              "#7201a8"
             ],
             [
              0.3333333333333333,
              "#9c179e"
             ],
             [
              0.4444444444444444,
              "#bd3786"
             ],
             [
              0.5555555555555556,
              "#d8576b"
             ],
             [
              0.6666666666666666,
              "#ed7953"
             ],
             [
              0.7777777777777778,
              "#fb9f3a"
             ],
             [
              0.8888888888888888,
              "#fdca26"
             ],
             [
              1,
              "#f0f921"
             ]
            ],
            "type": "surface"
           }
          ],
          "table": [
           {
            "cells": {
             "fill": {
              "color": "#EBF0F8"
             },
             "line": {
              "color": "white"
             }
            },
            "header": {
             "fill": {
              "color": "#C8D4E3"
             },
             "line": {
              "color": "white"
             }
            },
            "type": "table"
           }
          ]
         },
         "layout": {
          "annotationdefaults": {
           "arrowcolor": "#2a3f5f",
           "arrowhead": 0,
           "arrowwidth": 1
          },
          "autotypenumbers": "strict",
          "coloraxis": {
           "colorbar": {
            "outlinewidth": 0,
            "ticks": ""
           }
          },
          "colorscale": {
           "diverging": [
            [
             0,
             "#8e0152"
            ],
            [
             0.1,
             "#c51b7d"
            ],
            [
             0.2,
             "#de77ae"
            ],
            [
             0.3,
             "#f1b6da"
            ],
            [
             0.4,
             "#fde0ef"
            ],
            [
             0.5,
             "#f7f7f7"
            ],
            [
             0.6,
             "#e6f5d0"
            ],
            [
             0.7,
             "#b8e186"
            ],
            [
             0.8,
             "#7fbc41"
            ],
            [
             0.9,
             "#4d9221"
            ],
            [
             1,
             "#276419"
            ]
           ],
           "sequential": [
            [
             0,
             "#0d0887"
            ],
            [
             0.1111111111111111,
             "#46039f"
            ],
            [
             0.2222222222222222,
             "#7201a8"
            ],
            [
             0.3333333333333333,
             "#9c179e"
            ],
            [
             0.4444444444444444,
             "#bd3786"
            ],
            [
             0.5555555555555556,
             "#d8576b"
            ],
            [
             0.6666666666666666,
             "#ed7953"
            ],
            [
             0.7777777777777778,
             "#fb9f3a"
            ],
            [
             0.8888888888888888,
             "#fdca26"
            ],
            [
             1,
             "#f0f921"
            ]
           ],
           "sequentialminus": [
            [
             0,
             "#0d0887"
            ],
            [
             0.1111111111111111,
             "#46039f"
            ],
            [
             0.2222222222222222,
             "#7201a8"
            ],
            [
             0.3333333333333333,
             "#9c179e"
            ],
            [
             0.4444444444444444,
             "#bd3786"
            ],
            [
             0.5555555555555556,
             "#d8576b"
            ],
            [
             0.6666666666666666,
             "#ed7953"
            ],
            [
             0.7777777777777778,
             "#fb9f3a"
            ],
            [
             0.8888888888888888,
             "#fdca26"
            ],
            [
             1,
             "#f0f921"
            ]
           ]
          },
          "colorway": [
           "#636efa",
           "#EF553B",
           "#00cc96",
           "#ab63fa",
           "#FFA15A",
           "#19d3f3",
           "#FF6692",
           "#B6E880",
           "#FF97FF",
           "#FECB52"
          ],
          "font": {
           "color": "#2a3f5f"
          },
          "geo": {
           "bgcolor": "white",
           "lakecolor": "white",
           "landcolor": "#E5ECF6",
           "showlakes": true,
           "showland": true,
           "subunitcolor": "white"
          },
          "hoverlabel": {
           "align": "left"
          },
          "hovermode": "closest",
          "mapbox": {
           "style": "light"
          },
          "paper_bgcolor": "white",
          "plot_bgcolor": "#E5ECF6",
          "polar": {
           "angularaxis": {
            "gridcolor": "white",
            "linecolor": "white",
            "ticks": ""
           },
           "bgcolor": "#E5ECF6",
           "radialaxis": {
            "gridcolor": "white",
            "linecolor": "white",
            "ticks": ""
           }
          },
          "scene": {
           "xaxis": {
            "backgroundcolor": "#E5ECF6",
            "gridcolor": "white",
            "gridwidth": 2,
            "linecolor": "white",
            "showbackground": true,
            "ticks": "",
            "zerolinecolor": "white"
           },
           "yaxis": {
            "backgroundcolor": "#E5ECF6",
            "gridcolor": "white",
            "gridwidth": 2,
            "linecolor": "white",
            "showbackground": true,
            "ticks": "",
            "zerolinecolor": "white"
           },
           "zaxis": {
            "backgroundcolor": "#E5ECF6",
            "gridcolor": "white",
            "gridwidth": 2,
            "linecolor": "white",
            "showbackground": true,
            "ticks": "",
            "zerolinecolor": "white"
           }
          },
          "shapedefaults": {
           "line": {
            "color": "#2a3f5f"
           }
          },
          "ternary": {
           "aaxis": {
            "gridcolor": "white",
            "linecolor": "white",
            "ticks": ""
           },
           "baxis": {
            "gridcolor": "white",
            "linecolor": "white",
            "ticks": ""
           },
           "bgcolor": "#E5ECF6",
           "caxis": {
            "gridcolor": "white",
            "linecolor": "white",
            "ticks": ""
           }
          },
          "title": {
           "x": 0.05
          },
          "xaxis": {
           "automargin": true,
           "gridcolor": "white",
           "linecolor": "white",
           "ticks": "",
           "title": {
            "standoff": 15
           },
           "zerolinecolor": "white",
           "zerolinewidth": 2
          },
          "yaxis": {
           "automargin": true,
           "gridcolor": "white",
           "linecolor": "white",
           "ticks": "",
           "title": {
            "standoff": 15
           },
           "zerolinecolor": "white",
           "zerolinewidth": 2
          }
         }
        },
        "xaxis": {
         "anchor": "y",
         "categoryarray": [
          "1101",
          "1201",
          "1502",
          "2100",
          "2201",
          "2304",
          "2308",
          "3104",
          "3105",
          "3200",
          "3202",
          "3204",
          "3206",
          "3207",
          "3307",
          "4102",
          "4204",
          "4208",
          "4215",
          "5102",
          "5104",
          "5105",
          "5202",
          "5203",
          "5204",
          "5205",
          "6101",
          "6102",
          "6201",
          "6203",
          "7103",
          "7107",
          "8102",
          "8104",
          "9225",
          "BE",
          "V",
          "Z"
         ],
         "categoryorder": "array",
         "domain": [
          0,
          1
         ],
         "title": {
          "text": "bplp"
         }
        },
        "yaxis": {
         "anchor": "x",
         "domain": [
          0,
          1
         ],
         "title": {
          "text": "TOTAL_sum"
         }
        }
       }
      },
      "text/html": [
       "<div>                            <div id=\"64ddd197-4539-4c7c-98e8-2e657398c64e\" class=\"plotly-graph-div\" style=\"height:525px; width:100%;\"></div>            <script type=\"text/javascript\">                require([\"plotly\"], function(Plotly) {                    window.PLOTLYENV=window.PLOTLYENV || {};                                    if (document.getElementById(\"64ddd197-4539-4c7c-98e8-2e657398c64e\")) {                    Plotly.newPlot(                        \"64ddd197-4539-4c7c-98e8-2e657398c64e\",                        [{\"alignmentgroup\": \"True\", \"hovertemplate\": \"bplp=%{x}<br>TOTAL_sum=%{y}<extra></extra>\", \"legendgroup\": \"1101\", \"marker\": {\"color\": \"#636efa\"}, \"name\": \"1101\", \"offsetgroup\": \"1101\", \"orientation\": \"v\", \"showlegend\": true, \"textposition\": \"auto\", \"type\": \"bar\", \"x\": [\"1101\"], \"xaxis\": \"x\", \"y\": [56349729], \"yaxis\": \"y\"}, {\"alignmentgroup\": \"True\", \"hovertemplate\": \"bplp=%{x}<br>TOTAL_sum=%{y}<extra></extra>\", \"legendgroup\": \"1201\", \"marker\": {\"color\": \"#EF553B\"}, \"name\": \"1201\", \"offsetgroup\": \"1201\", \"orientation\": \"v\", \"showlegend\": true, \"textposition\": \"auto\", \"type\": \"bar\", \"x\": [\"1201\"], \"xaxis\": \"x\", \"y\": [355757], \"yaxis\": \"y\"}, {\"alignmentgroup\": \"True\", \"hovertemplate\": \"bplp=%{x}<br>TOTAL_sum=%{y}<extra></extra>\", \"legendgroup\": \"1502\", \"marker\": {\"color\": \"#00cc96\"}, \"name\": \"1502\", \"offsetgroup\": \"1502\", \"orientation\": \"v\", \"showlegend\": true, \"textposition\": \"auto\", \"type\": \"bar\", \"x\": [\"1502\"], \"xaxis\": \"x\", \"y\": [149423], \"yaxis\": \"y\"}, {\"alignmentgroup\": \"True\", \"hovertemplate\": \"bplp=%{x}<br>TOTAL_sum=%{y}<extra></extra>\", \"legendgroup\": \"2100\", \"marker\": {\"color\": \"#ab63fa\"}, \"name\": \"2100\", \"offsetgroup\": \"2100\", \"orientation\": \"v\", \"showlegend\": true, \"textposition\": \"auto\", \"type\": \"bar\", \"x\": [\"2100\"], \"xaxis\": \"x\", \"y\": [2139231], \"yaxis\": \"y\"}, {\"alignmentgroup\": \"True\", \"hovertemplate\": \"bplp=%{x}<br>TOTAL_sum=%{y}<extra></extra>\", \"legendgroup\": \"2201\", \"marker\": {\"color\": \"#FFA15A\"}, \"name\": \"2201\", \"offsetgroup\": \"2201\", \"orientation\": \"v\", \"showlegend\": true, \"textposition\": \"auto\", \"type\": \"bar\", \"x\": [\"2201\"], \"xaxis\": \"x\", \"y\": [167860], \"yaxis\": \"y\"}, {\"alignmentgroup\": \"True\", \"hovertemplate\": \"bplp=%{x}<br>TOTAL_sum=%{y}<extra></extra>\", \"legendgroup\": \"2304\", \"marker\": {\"color\": \"#19d3f3\"}, \"name\": \"2304\", \"offsetgroup\": \"2304\", \"orientation\": \"v\", \"showlegend\": true, \"textposition\": \"auto\", \"type\": \"bar\", \"x\": [\"2304\"], \"xaxis\": \"x\", \"y\": [214530], \"yaxis\": \"y\"}, {\"alignmentgroup\": \"True\", \"hovertemplate\": \"bplp=%{x}<br>TOTAL_sum=%{y}<extra></extra>\", \"legendgroup\": \"2308\", \"marker\": {\"color\": \"#FF6692\"}, \"name\": \"2308\", \"offsetgroup\": \"2308\", \"orientation\": \"v\", \"showlegend\": true, \"textposition\": \"auto\", \"type\": \"bar\", \"x\": [\"2308\"], \"xaxis\": \"x\", \"y\": [238326], \"yaxis\": \"y\"}, {\"alignmentgroup\": \"True\", \"hovertemplate\": \"bplp=%{x}<br>TOTAL_sum=%{y}<extra></extra>\", \"legendgroup\": \"3104\", \"marker\": {\"color\": \"#B6E880\"}, \"name\": \"3104\", \"offsetgroup\": \"3104\", \"orientation\": \"v\", \"showlegend\": true, \"textposition\": \"auto\", \"type\": \"bar\", \"x\": [\"3104\"], \"xaxis\": \"x\", \"y\": [603216], \"yaxis\": \"y\"}, {\"alignmentgroup\": \"True\", \"hovertemplate\": \"bplp=%{x}<br>TOTAL_sum=%{y}<extra></extra>\", \"legendgroup\": \"3105\", \"marker\": {\"color\": \"#FF97FF\"}, \"name\": \"3105\", \"offsetgroup\": \"3105\", \"orientation\": \"v\", \"showlegend\": true, \"textposition\": \"auto\", \"type\": \"bar\", \"x\": [\"3105\"], \"xaxis\": \"x\", \"y\": [131908], \"yaxis\": \"y\"}, {\"alignmentgroup\": \"True\", \"hovertemplate\": \"bplp=%{x}<br>TOTAL_sum=%{y}<extra></extra>\", \"legendgroup\": \"3200\", \"marker\": {\"color\": \"#FECB52\"}, \"name\": \"3200\", \"offsetgroup\": \"3200\", \"orientation\": \"v\", \"showlegend\": true, \"textposition\": \"auto\", \"type\": \"bar\", \"x\": [\"3200\"], \"xaxis\": \"x\", \"y\": [113770], \"yaxis\": \"y\"}, {\"alignmentgroup\": \"True\", \"hovertemplate\": \"bplp=%{x}<br>TOTAL_sum=%{y}<extra></extra>\", \"legendgroup\": \"3202\", \"marker\": {\"color\": \"#636efa\"}, \"name\": \"3202\", \"offsetgroup\": \"3202\", \"orientation\": \"v\", \"showlegend\": true, \"textposition\": \"auto\", \"type\": \"bar\", \"x\": [\"3202\"], \"xaxis\": \"x\", \"y\": [74155], \"yaxis\": \"y\"}, {\"alignmentgroup\": \"True\", \"hovertemplate\": \"bplp=%{x}<br>TOTAL_sum=%{y}<extra></extra>\", \"legendgroup\": \"3204\", \"marker\": {\"color\": \"#EF553B\"}, \"name\": \"3204\", \"offsetgroup\": \"3204\", \"orientation\": \"v\", \"showlegend\": true, \"textposition\": \"auto\", \"type\": \"bar\", \"x\": [\"3204\"], \"xaxis\": \"x\", \"y\": [51919], \"yaxis\": \"y\"}, {\"alignmentgroup\": \"True\", \"hovertemplate\": \"bplp=%{x}<br>TOTAL_sum=%{y}<extra></extra>\", \"legendgroup\": \"3206\", \"marker\": {\"color\": \"#00cc96\"}, \"name\": \"3206\", \"offsetgroup\": \"3206\", \"orientation\": \"v\", \"showlegend\": true, \"textposition\": \"auto\", \"type\": \"bar\", \"x\": [\"3206\"], \"xaxis\": \"x\", \"y\": [124382], \"yaxis\": \"y\"}, {\"alignmentgroup\": \"True\", \"hovertemplate\": \"bplp=%{x}<br>TOTAL_sum=%{y}<extra></extra>\", \"legendgroup\": \"3207\", \"marker\": {\"color\": \"#ab63fa\"}, \"name\": \"3207\", \"offsetgroup\": \"3207\", \"orientation\": \"v\", \"showlegend\": true, \"textposition\": \"auto\", \"type\": \"bar\", \"x\": [\"3207\"], \"xaxis\": \"x\", \"y\": [326416], \"yaxis\": \"y\"}, {\"alignmentgroup\": \"True\", \"hovertemplate\": \"bplp=%{x}<br>TOTAL_sum=%{y}<extra></extra>\", \"legendgroup\": \"3307\", \"marker\": {\"color\": \"#FFA15A\"}, \"name\": \"3307\", \"offsetgroup\": \"3307\", \"orientation\": \"v\", \"showlegend\": true, \"textposition\": \"auto\", \"type\": \"bar\", \"x\": [\"3307\"], \"xaxis\": \"x\", \"y\": [100942], \"yaxis\": \"y\"}, {\"alignmentgroup\": \"True\", \"hovertemplate\": \"bplp=%{x}<br>TOTAL_sum=%{y}<extra></extra>\", \"legendgroup\": \"4102\", \"marker\": {\"color\": \"#19d3f3\"}, \"name\": \"4102\", \"offsetgroup\": \"4102\", \"orientation\": \"v\", \"showlegend\": true, \"textposition\": \"auto\", \"type\": \"bar\", \"x\": [\"4102\"], \"xaxis\": \"x\", \"y\": [103413], \"yaxis\": \"y\"}, {\"alignmentgroup\": \"True\", \"hovertemplate\": \"bplp=%{x}<br>TOTAL_sum=%{y}<extra></extra>\", \"legendgroup\": \"4204\", \"marker\": {\"color\": \"#FF6692\"}, \"name\": \"4204\", \"offsetgroup\": \"4204\", \"orientation\": \"v\", \"showlegend\": true, \"textposition\": \"auto\", \"type\": \"bar\", \"x\": [\"4204\"], \"xaxis\": \"x\", \"y\": [80673], \"yaxis\": \"y\"}, {\"alignmentgroup\": \"True\", \"hovertemplate\": \"bplp=%{x}<br>TOTAL_sum=%{y}<extra></extra>\", \"legendgroup\": \"4208\", \"marker\": {\"color\": \"#B6E880\"}, \"name\": \"4208\", \"offsetgroup\": \"4208\", \"orientation\": \"v\", \"showlegend\": true, \"textposition\": \"auto\", \"type\": \"bar\", \"x\": [\"4208\"], \"xaxis\": \"x\", \"y\": [151308], \"yaxis\": \"y\"}, {\"alignmentgroup\": \"True\", \"hovertemplate\": \"bplp=%{x}<br>TOTAL_sum=%{y}<extra></extra>\", \"legendgroup\": \"4215\", \"marker\": {\"color\": \"#FF97FF\"}, \"name\": \"4215\", \"offsetgroup\": \"4215\", \"orientation\": \"v\", \"showlegend\": true, \"textposition\": \"auto\", \"type\": \"bar\", \"x\": [\"4215\"], \"xaxis\": \"x\", \"y\": [93192], \"yaxis\": \"y\"}, {\"alignmentgroup\": \"True\", \"hovertemplate\": \"bplp=%{x}<br>TOTAL_sum=%{y}<extra></extra>\", \"legendgroup\": \"5102\", \"marker\": {\"color\": \"#FECB52\"}, \"name\": \"5102\", \"offsetgroup\": \"5102\", \"orientation\": \"v\", \"showlegend\": true, \"textposition\": \"auto\", \"type\": \"bar\", \"x\": [\"5102\"], \"xaxis\": \"x\", \"y\": [75829], \"yaxis\": \"y\"}, {\"alignmentgroup\": \"True\", \"hovertemplate\": \"bplp=%{x}<br>TOTAL_sum=%{y}<extra></extra>\", \"legendgroup\": \"5104\", \"marker\": {\"color\": \"#636efa\"}, \"name\": \"5104\", \"offsetgroup\": \"5104\", \"orientation\": \"v\", \"showlegend\": true, \"textposition\": \"auto\", \"type\": \"bar\", \"x\": [\"5104\"], \"xaxis\": \"x\", \"y\": [99612], \"yaxis\": \"y\"}, {\"alignmentgroup\": \"True\", \"hovertemplate\": \"bplp=%{x}<br>TOTAL_sum=%{y}<extra></extra>\", \"legendgroup\": \"5105\", \"marker\": {\"color\": \"#EF553B\"}, \"name\": \"5105\", \"offsetgroup\": \"5105\", \"orientation\": \"v\", \"showlegend\": true, \"textposition\": \"auto\", \"type\": \"bar\", \"x\": [\"5105\"], \"xaxis\": \"x\", \"y\": [499676], \"yaxis\": \"y\"}, {\"alignmentgroup\": \"True\", \"hovertemplate\": \"bplp=%{x}<br>TOTAL_sum=%{y}<extra></extra>\", \"legendgroup\": \"5202\", \"marker\": {\"color\": \"#00cc96\"}, \"name\": \"5202\", \"offsetgroup\": \"5202\", \"orientation\": \"v\", \"showlegend\": true, \"textposition\": \"auto\", \"type\": \"bar\", \"x\": [\"5202\"], \"xaxis\": \"x\", \"y\": [161348], \"yaxis\": \"y\"}, {\"alignmentgroup\": \"True\", \"hovertemplate\": \"bplp=%{x}<br>TOTAL_sum=%{y}<extra></extra>\", \"legendgroup\": \"5203\", \"marker\": {\"color\": \"#ab63fa\"}, \"name\": \"5203\", \"offsetgroup\": \"5203\", \"orientation\": \"v\", \"showlegend\": true, \"textposition\": \"auto\", \"type\": \"bar\", \"x\": [\"5203\"], \"xaxis\": \"x\", \"y\": [208535], \"yaxis\": \"y\"}, {\"alignmentgroup\": \"True\", \"hovertemplate\": \"bplp=%{x}<br>TOTAL_sum=%{y}<extra></extra>\", \"legendgroup\": \"5204\", \"marker\": {\"color\": \"#FFA15A\"}, \"name\": \"5204\", \"offsetgroup\": \"5204\", \"orientation\": \"v\", \"showlegend\": true, \"textposition\": \"auto\", \"type\": \"bar\", \"x\": [\"5204\"], \"xaxis\": \"x\", \"y\": [395704], \"yaxis\": \"y\"}, {\"alignmentgroup\": \"True\", \"hovertemplate\": \"bplp=%{x}<br>TOTAL_sum=%{y}<extra></extra>\", \"legendgroup\": \"5205\", \"marker\": {\"color\": \"#19d3f3\"}, \"name\": \"5205\", \"offsetgroup\": \"5205\", \"orientation\": \"v\", \"showlegend\": true, \"textposition\": \"auto\", \"type\": \"bar\", \"x\": [\"5205\"], \"xaxis\": \"x\", \"y\": [122062], \"yaxis\": \"y\"}, {\"alignmentgroup\": \"True\", \"hovertemplate\": \"bplp=%{x}<br>TOTAL_sum=%{y}<extra></extra>\", \"legendgroup\": \"6101\", \"marker\": {\"color\": \"#FF6692\"}, \"name\": \"6101\", \"offsetgroup\": \"6101\", \"orientation\": \"v\", \"showlegend\": true, \"textposition\": \"auto\", \"type\": \"bar\", \"x\": [\"6101\"], \"xaxis\": \"x\", \"y\": [525549], \"yaxis\": \"y\"}, {\"alignmentgroup\": \"True\", \"hovertemplate\": \"bplp=%{x}<br>TOTAL_sum=%{y}<extra></extra>\", \"legendgroup\": \"6102\", \"marker\": {\"color\": \"#B6E880\"}, \"name\": \"6102\", \"offsetgroup\": \"6102\", \"orientation\": \"v\", \"showlegend\": true, \"textposition\": \"auto\", \"type\": \"bar\", \"x\": [\"6102\"], \"xaxis\": \"x\", \"y\": [67229], \"yaxis\": \"y\"}, {\"alignmentgroup\": \"True\", \"hovertemplate\": \"bplp=%{x}<br>TOTAL_sum=%{y}<extra></extra>\", \"legendgroup\": \"6201\", \"marker\": {\"color\": \"#FF97FF\"}, \"name\": \"6201\", \"offsetgroup\": \"6201\", \"orientation\": \"v\", \"showlegend\": true, \"textposition\": \"auto\", \"type\": \"bar\", \"x\": [\"6201\"], \"xaxis\": \"x\", \"y\": [25468], \"yaxis\": \"y\"}, {\"alignmentgroup\": \"True\", \"hovertemplate\": \"bplp=%{x}<br>TOTAL_sum=%{y}<extra></extra>\", \"legendgroup\": \"6203\", \"marker\": {\"color\": \"#FECB52\"}, \"name\": \"6203\", \"offsetgroup\": \"6203\", \"orientation\": \"v\", \"showlegend\": true, \"textposition\": \"auto\", \"type\": \"bar\", \"x\": [\"6203\"], \"xaxis\": \"x\", \"y\": [166185], \"yaxis\": \"y\"}, {\"alignmentgroup\": \"True\", \"hovertemplate\": \"bplp=%{x}<br>TOTAL_sum=%{y}<extra></extra>\", \"legendgroup\": \"7103\", \"marker\": {\"color\": \"#636efa\"}, \"name\": \"7103\", \"offsetgroup\": \"7103\", \"orientation\": \"v\", \"showlegend\": true, \"textposition\": \"auto\", \"type\": \"bar\", \"x\": [\"7103\"], \"xaxis\": \"x\", \"y\": [537921], \"yaxis\": \"y\"}, {\"alignmentgroup\": \"True\", \"hovertemplate\": \"bplp=%{x}<br>TOTAL_sum=%{y}<extra></extra>\", \"legendgroup\": \"7107\", \"marker\": {\"color\": \"#EF553B\"}, \"name\": \"7107\", \"offsetgroup\": \"7107\", \"orientation\": \"v\", \"showlegend\": true, \"textposition\": \"auto\", \"type\": \"bar\", \"x\": [\"7107\"], \"xaxis\": \"x\", \"y\": [53470], \"yaxis\": \"y\"}, {\"alignmentgroup\": \"True\", \"hovertemplate\": \"bplp=%{x}<br>TOTAL_sum=%{y}<extra></extra>\", \"legendgroup\": \"8102\", \"marker\": {\"color\": \"#00cc96\"}, \"name\": \"8102\", \"offsetgroup\": \"8102\", \"orientation\": \"v\", \"showlegend\": true, \"textposition\": \"auto\", \"type\": \"bar\", \"x\": [\"8102\"], \"xaxis\": \"x\", \"y\": [150445], \"yaxis\": \"y\"}, {\"alignmentgroup\": \"True\", \"hovertemplate\": \"bplp=%{x}<br>TOTAL_sum=%{y}<extra></extra>\", \"legendgroup\": \"8104\", \"marker\": {\"color\": \"#ab63fa\"}, \"name\": \"8104\", \"offsetgroup\": \"8104\", \"orientation\": \"v\", \"showlegend\": true, \"textposition\": \"auto\", \"type\": \"bar\", \"x\": [\"8104\"], \"xaxis\": \"x\", \"y\": [192416], \"yaxis\": \"y\"}, {\"alignmentgroup\": \"True\", \"hovertemplate\": \"bplp=%{x}<br>TOTAL_sum=%{y}<extra></extra>\", \"legendgroup\": \"9225\", \"marker\": {\"color\": \"#FFA15A\"}, \"name\": \"9225\", \"offsetgroup\": \"9225\", \"orientation\": \"v\", \"showlegend\": true, \"textposition\": \"auto\", \"type\": \"bar\", \"x\": [\"9225\"], \"xaxis\": \"x\", \"y\": [249797], \"yaxis\": \"y\"}, {\"alignmentgroup\": \"True\", \"hovertemplate\": \"bplp=%{x}<br>TOTAL_sum=%{y}<extra></extra>\", \"legendgroup\": \"BE\", \"marker\": {\"color\": \"#19d3f3\"}, \"name\": \"BE\", \"offsetgroup\": \"BE\", \"orientation\": \"v\", \"showlegend\": true, \"textposition\": \"auto\", \"type\": \"bar\", \"x\": [\"BE\"], \"xaxis\": \"x\", \"y\": [604801], \"yaxis\": \"y\"}, {\"alignmentgroup\": \"True\", \"hovertemplate\": \"bplp=%{x}<br>TOTAL_sum=%{y}<extra></extra>\", \"legendgroup\": \"V\", \"marker\": {\"color\": \"#FF6692\"}, \"name\": \"V\", \"offsetgroup\": \"V\", \"orientation\": \"v\", \"showlegend\": true, \"textposition\": \"auto\", \"type\": \"bar\", \"x\": [\"V\"], \"xaxis\": \"x\", \"y\": [425811], \"yaxis\": \"y\"}, {\"alignmentgroup\": \"True\", \"hovertemplate\": \"bplp=%{x}<br>TOTAL_sum=%{y}<extra></extra>\", \"legendgroup\": \"Z\", \"marker\": {\"color\": \"#B6E880\"}, \"name\": \"Z\", \"offsetgroup\": \"Z\", \"orientation\": \"v\", \"showlegend\": true, \"textposition\": \"auto\", \"type\": \"bar\", \"x\": [\"Z\"], \"xaxis\": \"x\", \"y\": [3596134], \"yaxis\": \"y\"}],                        {\"barmode\": \"relative\", \"legend\": {\"title\": {\"text\": \"bplp\"}, \"tracegroupgap\": 0}, \"margin\": {\"t\": 60}, \"template\": {\"data\": {\"bar\": [{\"error_x\": {\"color\": \"#2a3f5f\"}, \"error_y\": {\"color\": \"#2a3f5f\"}, \"marker\": {\"line\": {\"color\": \"#E5ECF6\", \"width\": 0.5}}, \"type\": \"bar\"}], \"barpolar\": [{\"marker\": {\"line\": {\"color\": \"#E5ECF6\", \"width\": 0.5}}, \"type\": \"barpolar\"}], \"carpet\": [{\"aaxis\": {\"endlinecolor\": \"#2a3f5f\", \"gridcolor\": \"white\", \"linecolor\": \"white\", \"minorgridcolor\": \"white\", \"startlinecolor\": \"#2a3f5f\"}, \"baxis\": {\"endlinecolor\": \"#2a3f5f\", \"gridcolor\": \"white\", \"linecolor\": \"white\", \"minorgridcolor\": \"white\", \"startlinecolor\": \"#2a3f5f\"}, \"type\": \"carpet\"}], \"choropleth\": [{\"colorbar\": {\"outlinewidth\": 0, \"ticks\": \"\"}, \"type\": \"choropleth\"}], \"contour\": [{\"colorbar\": {\"outlinewidth\": 0, \"ticks\": \"\"}, \"colorscale\": [[0.0, \"#0d0887\"], [0.1111111111111111, \"#46039f\"], [0.2222222222222222, \"#7201a8\"], [0.3333333333333333, \"#9c179e\"], [0.4444444444444444, \"#bd3786\"], [0.5555555555555556, \"#d8576b\"], [0.6666666666666666, \"#ed7953\"], [0.7777777777777778, \"#fb9f3a\"], [0.8888888888888888, \"#fdca26\"], [1.0, \"#f0f921\"]], \"type\": \"contour\"}], \"contourcarpet\": [{\"colorbar\": {\"outlinewidth\": 0, \"ticks\": \"\"}, \"type\": \"contourcarpet\"}], \"heatmap\": [{\"colorbar\": {\"outlinewidth\": 0, \"ticks\": \"\"}, \"colorscale\": [[0.0, \"#0d0887\"], [0.1111111111111111, \"#46039f\"], [0.2222222222222222, \"#7201a8\"], [0.3333333333333333, \"#9c179e\"], [0.4444444444444444, \"#bd3786\"], [0.5555555555555556, \"#d8576b\"], [0.6666666666666666, \"#ed7953\"], [0.7777777777777778, \"#fb9f3a\"], [0.8888888888888888, \"#fdca26\"], [1.0, \"#f0f921\"]], \"type\": \"heatmap\"}], \"heatmapgl\": [{\"colorbar\": {\"outlinewidth\": 0, \"ticks\": \"\"}, \"colorscale\": [[0.0, \"#0d0887\"], [0.1111111111111111, \"#46039f\"], [0.2222222222222222, \"#7201a8\"], [0.3333333333333333, \"#9c179e\"], [0.4444444444444444, \"#bd3786\"], [0.5555555555555556, \"#d8576b\"], [0.6666666666666666, \"#ed7953\"], [0.7777777777777778, \"#fb9f3a\"], [0.8888888888888888, \"#fdca26\"], [1.0, \"#f0f921\"]], \"type\": \"heatmapgl\"}], \"histogram\": [{\"marker\": {\"colorbar\": {\"outlinewidth\": 0, \"ticks\": \"\"}}, \"type\": \"histogram\"}], \"histogram2d\": [{\"colorbar\": {\"outlinewidth\": 0, \"ticks\": \"\"}, \"colorscale\": [[0.0, \"#0d0887\"], [0.1111111111111111, \"#46039f\"], [0.2222222222222222, \"#7201a8\"], [0.3333333333333333, \"#9c179e\"], [0.4444444444444444, \"#bd3786\"], [0.5555555555555556, \"#d8576b\"], [0.6666666666666666, \"#ed7953\"], [0.7777777777777778, \"#fb9f3a\"], [0.8888888888888888, \"#fdca26\"], [1.0, \"#f0f921\"]], \"type\": \"histogram2d\"}], \"histogram2dcontour\": [{\"colorbar\": {\"outlinewidth\": 0, \"ticks\": \"\"}, \"colorscale\": [[0.0, \"#0d0887\"], [0.1111111111111111, \"#46039f\"], [0.2222222222222222, \"#7201a8\"], [0.3333333333333333, \"#9c179e\"], [0.4444444444444444, \"#bd3786\"], [0.5555555555555556, \"#d8576b\"], [0.6666666666666666, \"#ed7953\"], [0.7777777777777778, \"#fb9f3a\"], [0.8888888888888888, \"#fdca26\"], [1.0, \"#f0f921\"]], \"type\": \"histogram2dcontour\"}], \"mesh3d\": [{\"colorbar\": {\"outlinewidth\": 0, \"ticks\": \"\"}, \"type\": \"mesh3d\"}], \"parcoords\": [{\"line\": {\"colorbar\": {\"outlinewidth\": 0, \"ticks\": \"\"}}, \"type\": \"parcoords\"}], \"pie\": [{\"automargin\": true, \"type\": \"pie\"}], \"scatter\": [{\"marker\": {\"colorbar\": {\"outlinewidth\": 0, \"ticks\": \"\"}}, \"type\": \"scatter\"}], \"scatter3d\": [{\"line\": {\"colorbar\": {\"outlinewidth\": 0, \"ticks\": \"\"}}, \"marker\": {\"colorbar\": {\"outlinewidth\": 0, \"ticks\": \"\"}}, \"type\": \"scatter3d\"}], \"scattercarpet\": [{\"marker\": {\"colorbar\": {\"outlinewidth\": 0, \"ticks\": \"\"}}, \"type\": \"scattercarpet\"}], \"scattergeo\": [{\"marker\": {\"colorbar\": {\"outlinewidth\": 0, \"ticks\": \"\"}}, \"type\": \"scattergeo\"}], \"scattergl\": [{\"marker\": {\"colorbar\": {\"outlinewidth\": 0, \"ticks\": \"\"}}, \"type\": \"scattergl\"}], \"scattermapbox\": [{\"marker\": {\"colorbar\": {\"outlinewidth\": 0, \"ticks\": \"\"}}, \"type\": \"scattermapbox\"}], \"scatterpolar\": [{\"marker\": {\"colorbar\": {\"outlinewidth\": 0, \"ticks\": \"\"}}, \"type\": \"scatterpolar\"}], \"scatterpolargl\": [{\"marker\": {\"colorbar\": {\"outlinewidth\": 0, \"ticks\": \"\"}}, \"type\": \"scatterpolargl\"}], \"scatterternary\": [{\"marker\": {\"colorbar\": {\"outlinewidth\": 0, \"ticks\": \"\"}}, \"type\": \"scatterternary\"}], \"surface\": [{\"colorbar\": {\"outlinewidth\": 0, \"ticks\": \"\"}, \"colorscale\": [[0.0, \"#0d0887\"], [0.1111111111111111, \"#46039f\"], [0.2222222222222222, \"#7201a8\"], [0.3333333333333333, \"#9c179e\"], [0.4444444444444444, \"#bd3786\"], [0.5555555555555556, \"#d8576b\"], [0.6666666666666666, \"#ed7953\"], [0.7777777777777778, \"#fb9f3a\"], [0.8888888888888888, \"#fdca26\"], [1.0, \"#f0f921\"]], \"type\": \"surface\"}], \"table\": [{\"cells\": {\"fill\": {\"color\": \"#EBF0F8\"}, \"line\": {\"color\": \"white\"}}, \"header\": {\"fill\": {\"color\": \"#C8D4E3\"}, \"line\": {\"color\": \"white\"}}, \"type\": \"table\"}]}, \"layout\": {\"annotationdefaults\": {\"arrowcolor\": \"#2a3f5f\", \"arrowhead\": 0, \"arrowwidth\": 1}, \"autotypenumbers\": \"strict\", \"coloraxis\": {\"colorbar\": {\"outlinewidth\": 0, \"ticks\": \"\"}}, \"colorscale\": {\"diverging\": [[0, \"#8e0152\"], [0.1, \"#c51b7d\"], [0.2, \"#de77ae\"], [0.3, \"#f1b6da\"], [0.4, \"#fde0ef\"], [0.5, \"#f7f7f7\"], [0.6, \"#e6f5d0\"], [0.7, \"#b8e186\"], [0.8, \"#7fbc41\"], [0.9, \"#4d9221\"], [1, \"#276419\"]], \"sequential\": [[0.0, \"#0d0887\"], [0.1111111111111111, \"#46039f\"], [0.2222222222222222, \"#7201a8\"], [0.3333333333333333, \"#9c179e\"], [0.4444444444444444, \"#bd3786\"], [0.5555555555555556, \"#d8576b\"], [0.6666666666666666, \"#ed7953\"], [0.7777777777777778, \"#fb9f3a\"], [0.8888888888888888, \"#fdca26\"], [1.0, \"#f0f921\"]], \"sequentialminus\": [[0.0, \"#0d0887\"], [0.1111111111111111, \"#46039f\"], [0.2222222222222222, \"#7201a8\"], [0.3333333333333333, \"#9c179e\"], [0.4444444444444444, \"#bd3786\"], [0.5555555555555556, \"#d8576b\"], [0.6666666666666666, \"#ed7953\"], [0.7777777777777778, \"#fb9f3a\"], [0.8888888888888888, \"#fdca26\"], [1.0, \"#f0f921\"]]}, \"colorway\": [\"#636efa\", \"#EF553B\", \"#00cc96\", \"#ab63fa\", \"#FFA15A\", \"#19d3f3\", \"#FF6692\", \"#B6E880\", \"#FF97FF\", \"#FECB52\"], \"font\": {\"color\": \"#2a3f5f\"}, \"geo\": {\"bgcolor\": \"white\", \"lakecolor\": \"white\", \"landcolor\": \"#E5ECF6\", \"showlakes\": true, \"showland\": true, \"subunitcolor\": \"white\"}, \"hoverlabel\": {\"align\": \"left\"}, \"hovermode\": \"closest\", \"mapbox\": {\"style\": \"light\"}, \"paper_bgcolor\": \"white\", \"plot_bgcolor\": \"#E5ECF6\", \"polar\": {\"angularaxis\": {\"gridcolor\": \"white\", \"linecolor\": \"white\", \"ticks\": \"\"}, \"bgcolor\": \"#E5ECF6\", \"radialaxis\": {\"gridcolor\": \"white\", \"linecolor\": \"white\", \"ticks\": \"\"}}, \"scene\": {\"xaxis\": {\"backgroundcolor\": \"#E5ECF6\", \"gridcolor\": \"white\", \"gridwidth\": 2, \"linecolor\": \"white\", \"showbackground\": true, \"ticks\": \"\", \"zerolinecolor\": \"white\"}, \"yaxis\": {\"backgroundcolor\": \"#E5ECF6\", \"gridcolor\": \"white\", \"gridwidth\": 2, \"linecolor\": \"white\", \"showbackground\": true, \"ticks\": \"\", \"zerolinecolor\": \"white\"}, \"zaxis\": {\"backgroundcolor\": \"#E5ECF6\", \"gridcolor\": \"white\", \"gridwidth\": 2, \"linecolor\": \"white\", \"showbackground\": true, \"ticks\": \"\", \"zerolinecolor\": \"white\"}}, \"shapedefaults\": {\"line\": {\"color\": \"#2a3f5f\"}}, \"ternary\": {\"aaxis\": {\"gridcolor\": \"white\", \"linecolor\": \"white\", \"ticks\": \"\"}, \"baxis\": {\"gridcolor\": \"white\", \"linecolor\": \"white\", \"ticks\": \"\"}, \"bgcolor\": \"#E5ECF6\", \"caxis\": {\"gridcolor\": \"white\", \"linecolor\": \"white\", \"ticks\": \"\"}}, \"title\": {\"x\": 0.05}, \"xaxis\": {\"automargin\": true, \"gridcolor\": \"white\", \"linecolor\": \"white\", \"ticks\": \"\", \"title\": {\"standoff\": 15}, \"zerolinecolor\": \"white\", \"zerolinewidth\": 2}, \"yaxis\": {\"automargin\": true, \"gridcolor\": \"white\", \"linecolor\": \"white\", \"ticks\": \"\", \"title\": {\"standoff\": 15}, \"zerolinecolor\": \"white\", \"zerolinewidth\": 2}}}, \"xaxis\": {\"anchor\": \"y\", \"categoryarray\": [\"1101\", \"1201\", \"1502\", \"2100\", \"2201\", \"2304\", \"2308\", \"3104\", \"3105\", \"3200\", \"3202\", \"3204\", \"3206\", \"3207\", \"3307\", \"4102\", \"4204\", \"4208\", \"4215\", \"5102\", \"5104\", \"5105\", \"5202\", \"5203\", \"5204\", \"5205\", \"6101\", \"6102\", \"6201\", \"6203\", \"7103\", \"7107\", \"8102\", \"8104\", \"9225\", \"BE\", \"V\", \"Z\"], \"categoryorder\": \"array\", \"domain\": [0.0, 1.0], \"title\": {\"text\": \"bplp\"}}, \"yaxis\": {\"anchor\": \"x\", \"domain\": [0.0, 1.0], \"title\": {\"text\": \"TOTAL_sum\"}}},                        {\"responsive\": true}                    ).then(function(){\n",
       "                            \n",
       "var gd = document.getElementById('64ddd197-4539-4c7c-98e8-2e657398c64e');\n",
       "var x = new MutationObserver(function (mutations, observer) {{\n",
       "        var display = window.getComputedStyle(gd).display;\n",
       "        if (!display || display === 'none') {{\n",
       "            console.log([gd, 'removed!']);\n",
       "            Plotly.purge(gd);\n",
       "            observer.disconnect();\n",
       "        }}\n",
       "}});\n",
       "\n",
       "// Listen for the removal of the full notebook cells\n",
       "var notebookContainer = gd.closest('#notebook-container');\n",
       "if (notebookContainer) {{\n",
       "    x.observe(notebookContainer, {childList: true});\n",
       "}}\n",
       "\n",
       "// Listen for the clearing of the current output cell\n",
       "var outputEl = gd.closest('.output');\n",
       "if (outputEl) {{\n",
       "    x.observe(outputEl, {childList: true});\n",
       "}}\n",
       "\n",
       "                        })                };                });            </script>        </div>"
      ]
     },
     "metadata": {},
     "output_type": "display_data"
    }
   ],
   "source": [
    "import plotly.express as px\n",
    "fig = px.bar(country_of_origin_df, x='bplp', y='TOTAL_sum', color='bplp')\n",
    "fig"
   ]
  },
  {
   "cell_type": "code",
   "execution_count": null,
   "id": "ada8e4de",
   "metadata": {},
   "outputs": [],
   "source": []
  }
 ],
 "metadata": {
  "kernelspec": {
   "display_name": "Python 3",
   "language": "python",
   "name": "python3"
  },
  "language_info": {
   "codemirror_mode": {
    "name": "ipython",
    "version": 3
   },
   "file_extension": ".py",
   "mimetype": "text/x-python",
   "name": "python",
   "nbconvert_exporter": "python",
   "pygments_lexer": "ipython3",
   "version": "3.8.8"
  }
 },
 "nbformat": 4,
 "nbformat_minor": 5
}
