{
 "cells": [
  {
   "cell_type": "code",
   "execution_count": 4,
   "id": "1901d0e7-d6da-4900-8d08-ae031fb63c39",
   "metadata": {},
   "outputs": [],
   "source": [
    "import pandas as pd\n",
    "import numpy as np\n",
    "import bamboolib\n",
    "from sklearn import preprocessing\n",
    "from sklearn.model_selection import train_test_split\n",
    "from sklearn.utils import shuffle\n",
    "from sklearn.dummy import DummyRegressor\n",
    "from sklearn.multioutput import MultiOutputRegressor\n",
    "from sklearn.ensemble import RandomForestRegressor\n",
    "from sklearn.neighbors import KNeighborsRegressor\n",
    "from sklearn.gaussian_process import GaussianProcessRegressor\n",
    "from xgboost import XGBRegressor\n",
    "from sklearn.svm import SVR\n",
    "from sklearn.metrics import r2_score\n",
    "from sklearn.metrics import mean_squared_error\n",
    "from sklearn.metrics import mean_absolute_error"
   ]
  },
  {
   "cell_type": "markdown",
   "id": "50567cca-f991-4458-89cb-95af592c2e9f",
   "metadata": {},
   "source": [
    "### Import Data"
   ]
  },
  {
   "cell_type": "code",
   "execution_count": 6,
   "id": "4752b834-b52d-4140-ad0c-54018d5fd4a0",
   "metadata": {},
   "outputs": [],
   "source": [
    "data_2006_x = pd.read_csv('../Model_training/x_df_2006_data.csv')\n",
    "data_2006_y = pd.read_csv('../Model_training/y_for_2006_data2011.csv')\n",
    "data_2011_x = pd.read_csv('../Model_training/x_df_2011_data.csv')\n",
    "data_2011_y = pd.read_csv('../Model_training/y_for_2011_data2016.csv')\n",
    "data_2016_x = pd.read_csv('../Model_training/x_df_2016_data.csv')"
   ]
  },
  {
   "cell_type": "code",
   "execution_count": 7,
   "id": "0c4f4719-1325-4187-a71d-4107ab73ea47",
   "metadata": {},
   "outputs": [],
   "source": [
    "data_2006_x = data_2006_x.dropna(how='any', axis=1)\n",
    "data_2011_x = data_2011_x.dropna(how='any', axis=1)\n",
    "data_2016_x = data_2016_x.dropna(how='any', axis=1)"
   ]
  },
  {
   "cell_type": "markdown",
   "id": "0c4b1cd9-d53a-4d58-9ed7-ca3792a85c81",
   "metadata": {},
   "source": [
    "### set up training data"
   ]
  },
  {
   "cell_type": "code",
   "execution_count": 8,
   "id": "300ef87d-face-45b5-bb52-aec888285847",
   "metadata": {},
   "outputs": [],
   "source": [
    "#join 2006 and 2011 data\n",
    "data_x = [data_2006_x, data_2011_x]\n",
    "x = pd.concat(data_x)\n",
    "x = x.dropna(how={'any'},thresh = 1000, axis=1)"
   ]
  },
  {
   "cell_type": "code",
   "execution_count": 9,
   "id": "7b2a304d-1161-4fd5-9cc8-6061a1888c41",
   "metadata": {},
   "outputs": [
    {
     "data": {
      "text/plain": [
       "False"
      ]
     },
     "execution_count": 9,
     "metadata": {},
     "output_type": "execute_result"
    }
   ],
   "source": [
    "#shuffle data from 2006 and 2011 in order to split training and testing data\n",
    "data_y = [data_2006_y, data_2011_y]\n",
    "y_a = pd.concat(data_y)\n",
    "#shuffle\n",
    "X, y = shuffle(x, y_a, random_state=13)\n",
    "\n",
    "#separate the LGA names since it is not needed for running model\n",
    "#note that the LGA codes have been shuffled with the data so they will still follow the order of the model data\n",
    "X_a = X.iloc[:,2:]\n",
    "lgas = X.iloc[:,:2]\n",
    "y_a =  y.iloc[:,1:]\n",
    "\n",
    "#drop values that are not found in both census 2006 and 2011\n",
    "X = X_a.dropna(how='any', axis=1)\n",
    "\n",
    "#ensure data type is float and check that there are no nan values\n",
    "X = X_a.astype(np.float32)\n",
    "y_a = y_a.astype(np.float32)\n",
    "np.any(np.isnan(X))"
   ]
  },
  {
   "cell_type": "markdown",
   "id": "c2618f8e-2dff-4576-b3f4-128dde31feb1",
   "metadata": {},
   "source": [
    "### Split data in traning and test sets"
   ]
  },
  {
   "cell_type": "code",
   "execution_count": 10,
   "id": "21b6b90c-8c6d-4537-9a11-3a0233c5ea83",
   "metadata": {},
   "outputs": [],
   "source": [
    "#split data\n",
    "X_train, X_test, y_train, y_test = train_test_split(X, y_a, test_size=0.2)\n"
   ]
  },
  {
   "cell_type": "markdown",
   "id": "0acd9779-b418-47cc-9923-6a96bd8e441d",
   "metadata": {},
   "source": [
    "### Baseline 1 - Mean Prediction"
   ]
  },
  {
   "cell_type": "code",
   "execution_count": 18,
   "id": "b34e3b47-e4cf-45e7-8de0-d15b1a0d458c",
   "metadata": {},
   "outputs": [
    {
     "name": "stdout",
     "output_type": "stream",
     "text": [
      "TRAIN ERROR\n",
      "dummy_r2  0.10566037735849057 dummy_mse  10145817.0 dummy_mae  163.21056\n",
      "TEST ERROR\n",
      "dummy_r2  0.07878015374236474 dummy_mse  7142029.0 dummy_mae  160.33452\n"
     ]
    }
   ],
   "source": [
    "dummy_baseline_model = MultiOutputRegressor(DummyRegressor(strategy=\"mean\")).fit(X_train,y_train)\n",
    "#predict training data\n",
    "dummy_predictions_train = dummy_baseline_model.predict(X_train)\n",
    "#predict test data\n",
    "dummy_predictions = dummy_baseline_model.predict(X_test)\n",
    "\n",
    "#scoring metrics training data \n",
    "dummy_scorer2t = r2_score(y_train,dummy_predictions_train,multioutput='uniform_average')\n",
    "dummy_mset = mean_squared_error(y_train,dummy_predictions_train,multioutput='uniform_average')\n",
    "dummy_maet = mean_absolute_error(y_train,dummy_predictions_train,multioutput='uniform_average')\n",
    "\n",
    "#scoring metrics test data\n",
    "dummy_scorer2 = r2_score(y_test,dummy_predictions,multioutput='uniform_average')\n",
    "dummy_mse = mean_squared_error(y_test,dummy_predictions,multioutput='uniform_average')\n",
    "dummy_mae = mean_absolute_error(y_test,dummy_predictions,multioutput='uniform_average')\n",
    "print(\"TRAIN ERROR\")\n",
    "print(\"dummy_r2 \",dummy_scorer2t,\"dummy_mse \",dummy_mset,\"dummy_mae \",dummy_maet)\n",
    "print(\"TEST ERROR\")\n",
    "print(\"dummy_r2 \",dummy_scorer2,\"dummy_mse \",dummy_mse,\"dummy_mae \",dummy_mae)"
   ]
  },
  {
   "cell_type": "markdown",
   "id": "336c903b-f3b9-43fa-9e72-7d4df1fd41b5",
   "metadata": {},
   "source": [
    "### Baseline 2 - Sequence Projection\n",
    "\n",
    "For baseline 2 please refer to ```Baseline_2.ipynb``` file. Baseline 2 requires the input data to be in a different shape to the training data in this notebook. This is due to data from baseline 2 uses all data from 2006 and 2011 to measure the percentual difference between the census. And then uses this data to predict 2016, which is then compared to ground truth labels to calculate the metrics and scoring.\n",
    "The data in this notebook has 2006 and 2011 shuffled in order to train the model with the labels respecting to the next time window."
   ]
  },
  {
   "cell_type": "markdown",
   "id": "fb3c5e43-b8b2-4d40-b7b0-6d633718d574",
   "metadata": {},
   "source": [
    "### Random Forest Regressor"
   ]
  },
  {
   "cell_type": "code",
   "execution_count": 43,
   "id": "32ac0cdc-09ff-4854-8f53-829d4e2949f7",
   "metadata": {},
   "outputs": [],
   "source": [
    "random_forest_model = MultiOutputRegressor(RandomForestRegressor(n_estimators = 150,warm_start=True,n_jobs= -1)).fit(X_train,y_train)"
   ]
  },
  {
   "cell_type": "code",
   "execution_count": 44,
   "id": "2f3f0994-9c7e-490e-8b1e-674ceb56ca7a",
   "metadata": {},
   "outputs": [
    {
     "name": "stdout",
     "output_type": "stream",
     "text": [
      "TRAIN ERROR\n",
      "rf_r2  0.9490598127127312 rf_mse  83531.47303960622 rf_mae  6.740944197804907\n",
      "TEST ERROR\n",
      "rf_r2  -0.3288632810566601 rf_mse  173567.83459016567 rf_mae  14.428142311012456\n"
     ]
    }
   ],
   "source": [
    "#predict training data\n",
    "random_forest_train_predictions = random_forest_model.predict(X_train)\n",
    "#predict test data\n",
    "random_forest_predictions = random_forest_model.predict(X_test)\n",
    "\n",
    "#scoring metrics training data \n",
    "random_forest_train_score = r2_score(y_train,random_forest_train_predictions,multioutput='uniform_average')\n",
    "random_forest_train_mse= mean_squared_error(y_train,random_forest_train_predictions,multioutput='uniform_average')\n",
    "random_forest_train_mae = mean_absolute_error(y_train,random_forest_train_predictions,multioutput='uniform_average')\n",
    "\n",
    "#scoring metrics test data\n",
    "random_forest_score = r2_score(y_test,random_forest_predictions,multioutput='uniform_average')\n",
    "random_forest_mse= mean_squared_error(y_test,random_forest_predictions,multioutput='uniform_average')\n",
    "random_forest_mae = mean_absolute_error(y_test,random_forest_predictions,multioutput='uniform_average')\n",
    "\n",
    "print(\"TRAIN ERROR\")\n",
    "print(\"rf_r2 \",random_forest_train_score,\"rf_mse \",random_forest_train_mse,\"rf_mae \",random_forest_train_mae)\n",
    "print(\"TEST ERROR\")\n",
    "print(\"rf_r2 \",random_forest_score,\"rf_mse \",random_forest_mse,\"rf_mae \",random_forest_mae)"
   ]
  },
  {
   "cell_type": "markdown",
   "id": "154417e1-c652-475b-8af6-91a73a3ec251",
   "metadata": {},
   "source": [
    "### KNN Regressor"
   ]
  },
  {
   "cell_type": "code",
   "execution_count": 22,
   "id": "1a658a0b-6a43-4fce-b7bc-9d6427fa0436",
   "metadata": {},
   "outputs": [],
   "source": [
    "#K Neighbours regressor\n",
    "KNN_reg_model = MultiOutputRegressor(KNeighborsRegressor(n_neighbors=10,n_jobs=-1)).fit(X_train,y_train)"
   ]
  },
  {
   "cell_type": "code",
   "execution_count": 23,
   "id": "1f0987bd-3323-42b4-bf44-bab7fe41069e",
   "metadata": {},
   "outputs": [
    {
     "name": "stdout",
     "output_type": "stream",
     "text": [
      "TRAIN ERROR\n",
      "rf_r2  0.4923267158776316 rf_mse  1686027.6 rf_mae  32.166813\n",
      "TEST ERROR\n",
      "rf_r2  0.19721880862922025 rf_mse  362041.25 rf_mae  29.946348\n"
     ]
    }
   ],
   "source": [
    "#predict train data\n",
    "KNN_predictions_train = KNN_reg_model.predict(X_train)\n",
    "#predict test data\n",
    "KNN_predictions = KNN_reg_model.predict(X_test)\n",
    "\n",
    "#scoring metrics training data \n",
    "KNN_train_score = r2_score(y_train,KNN_predictions_train,multioutput='uniform_average')\n",
    "KNN_train_mse= mean_squared_error(y_train,KNN_predictions_train,multioutput='uniform_average')\n",
    "KNN_train_mae = mean_absolute_error(y_train,KNN_predictions_train,multioutput='uniform_average')\n",
    "\n",
    "#scoring metrics test data\n",
    "KNN_score = r2_score(y_test,KNN_predictions,multioutput='uniform_average')\n",
    "KNN_mse= mean_squared_error(y_test,KNN_predictions,multioutput='uniform_average')\n",
    "KNN_mae = mean_absolute_error(y_test,KNN_predictions,multioutput='uniform_average')\n",
    "\n",
    "print(\"TRAIN ERROR\")\n",
    "print(\"rf_r2 \",KNN_train_score,\"rf_mse \",KNN_train_mse,\"rf_mae \",KNN_train_mae)\n",
    "print(\"TEST ERROR\")\n",
    "print(\"rf_r2 \",KNN_score,\"rf_mse \",KNN_mse,\"rf_mae \",KNN_mae)\n"
   ]
  },
  {
   "cell_type": "markdown",
   "id": "fb8fd36c-ba69-408f-b4b2-1f336df78bf9",
   "metadata": {},
   "source": [
    "### Gaussian Process Regressor"
   ]
  },
  {
   "cell_type": "code",
   "execution_count": 24,
   "id": "a3577e0b-123c-4c66-a858-547843b3dbd2",
   "metadata": {},
   "outputs": [],
   "source": [
    "GP_reg_model = MultiOutputRegressor(GaussianProcessRegressor()).fit(X_train,y_train)"
   ]
  },
  {
   "cell_type": "code",
   "execution_count": 25,
   "id": "35f02f61-0291-4305-9ade-d910d520ea2c",
   "metadata": {},
   "outputs": [
    {
     "name": "stdout",
     "output_type": "stream",
     "text": [
      "TRAIN ERROR\n",
      "rf_r2  1.0 rf_mse  1.281484008082509e-13 rf_mae  1.4270309614922139e-08\n",
      "TEST ERROR\n",
      "rf_r2  0.09181876285915229 rf_mse  9870936.497410282 rf_mae  140.2006289308176\n"
     ]
    }
   ],
   "source": [
    "#predict train data\n",
    "GP_predictions_train = GP_reg_model.predict(X_train)\n",
    "#predict test data\n",
    "GP_predictions = GP_reg_model.predict(X_test)\n",
    "\n",
    "#scoring metrics training data \n",
    "GP_train_score = r2_score(y_train,GP_predictions_train,multioutput='uniform_average')\n",
    "GP_train_mse= mean_squared_error(y_train,GP_predictions_train,multioutput='uniform_average')\n",
    "GP_train_mae = mean_absolute_error(y_train,GP_predictions_train,multioutput='uniform_average')\n",
    "\n",
    "#scoring metrics test data\n",
    "GP_score = r2_score(y_test,GP_predictions,multioutput='uniform_average')\n",
    "GP_mse= mean_squared_error(y_test,GP_predictions,multioutput='uniform_average')\n",
    "GP_mae = mean_absolute_error(y_test,GP_predictions,multioutput='uniform_average')\n",
    "\n",
    "print(\"TRAIN ERROR\")\n",
    "print(\"rf_r2 \",GP_train_score,\"rf_mse \",GP_train_mse,\"rf_mae \",GP_train_mae)\n",
    "print(\"TEST ERROR\")\n",
    "print(\"rf_r2 \",GP_score,\"rf_mse \",GP_mse,\"rf_mae \",GP_mae)\n"
   ]
  },
  {
   "cell_type": "markdown",
   "id": "cfac2fdf-1556-4a81-9c06-20efdb645cb7",
   "metadata": {},
   "source": [
    "### XGboost"
   ]
  },
  {
   "cell_type": "code",
   "execution_count": 26,
   "id": "5ba0cd5a-0cf2-429b-80bd-ab8c9ad6a0da",
   "metadata": {},
   "outputs": [],
   "source": [
    "xgb_model = MultiOutputRegressor(XGBRegressor()).fit(X_train,y_train)"
   ]
  },
  {
   "cell_type": "code",
   "execution_count": 27,
   "id": "e9f76a3a-7acd-4424-82d8-3c45da5d3533",
   "metadata": {},
   "outputs": [
    {
     "name": "stdout",
     "output_type": "stream",
     "text": [
      "TRAIN ERROR\n",
      "rf_r2  0.8943395306305532 rf_mse  0.3948036 rf_mae  0.04674477\n",
      "TEST ERROR\n",
      "rf_r2  -4.290975482687937 rf_mse  117015.69 rf_mae  14.689305\n"
     ]
    }
   ],
   "source": [
    "#predict train data\n",
    "xgb_predictions_train = xgb_model.predict(X_train)\n",
    "#predict test data\n",
    "xgb_predictions = xgb_model.predict(X_test)\n",
    "\n",
    "#scoring metrics training data \n",
    "xgb_train_score = r2_score(y_train,xgb_predictions_train,multioutput='uniform_average')\n",
    "xgb_train_mse= mean_squared_error(y_train,xgb_predictions_train,multioutput='uniform_average')\n",
    "xgb_train_mae = mean_absolute_error(y_train,xgb_predictions_train,multioutput='uniform_average')\n",
    "\n",
    "#scoring metrics test data\n",
    "xgb_score = r2_score(y_test,xgb_predictions,multioutput='uniform_average')\n",
    "xgb_mse= mean_squared_error(y_test,xgb_predictions,multioutput='uniform_average')\n",
    "xgb_mae = mean_absolute_error(y_test,xgb_predictions,multioutput='uniform_average')\n",
    "\n",
    "print(\"TRAIN ERROR\")\n",
    "print(\"rf_r2 \",xgb_train_score,\"rf_mse \",xgb_train_mse,\"rf_mae \",xgb_train_mae)\n",
    "print(\"TEST ERROR\")\n",
    "print(\"rf_r2 \",xgb_score,\"rf_mse \",xgb_mse,\"rf_mae \",xgb_mae)\n"
   ]
  },
  {
   "cell_type": "markdown",
   "id": "d8d6acc1-3a3a-4d71-b5d2-d2285606725a",
   "metadata": {},
   "source": [
    "### Support Vector Machine Regressor"
   ]
  },
  {
   "cell_type": "code",
   "execution_count": 30,
   "id": "edeec73b-11ec-4c73-be73-a0e8d5a39b1d",
   "metadata": {},
   "outputs": [],
   "source": [
    "svr_model = MultiOutputRegressor(SVR()).fit(X_train,y_train)"
   ]
  },
  {
   "cell_type": "code",
   "execution_count": 31,
   "id": "346e3127-507e-4e05-a998-d34bf96dcaba",
   "metadata": {},
   "outputs": [
    {
     "name": "stdout",
     "output_type": "stream",
     "text": [
      "TRAIN ERROR\n",
      "rf_r2  0.2199786571160182 rf_mse  11241125.234130554 rf_mae  124.93723306669055\n",
      "TEST ERROR\n",
      "rf_r2  0.2206270738356772 rf_mse  8276734.672657772 rf_mae  122.29774824929082\n"
     ]
    }
   ],
   "source": [
    "#predict train data\n",
    "svr_predictions_train = svr_model.predict(X_train)\n",
    "#predict test data\n",
    "svr_predictions = svr_model.predict(X_test)\n",
    "\n",
    "#scoring metrics training data \n",
    "svr_train_score = r2_score(y_train,svr_predictions_train,multioutput='uniform_average')\n",
    "svr_train_mse= mean_squared_error(y_train,svr_predictions_train,multioutput='uniform_average')\n",
    "svr_train_mae = mean_absolute_error(y_train,svr_predictions_train,multioutput='uniform_average')\n",
    "\n",
    "#scoring metrics test data\n",
    "svr_score = r2_score(y_test,svr_predictions,multioutput='uniform_average')\n",
    "svr_mse= mean_squared_error(y_test,svr_predictions,multioutput='uniform_average')\n",
    "svr_mae = mean_absolute_error(y_test,svr_predictions,multioutput='uniform_average')\n",
    "\n",
    "print(\"TRAIN ERROR\")\n",
    "print(\"rf_r2 \",svr_train_score,\"rf_mse \",svr_train_mse,\"rf_mae \",svr_train_mae)\n",
    "print(\"TEST ERROR\")\n",
    "print(\"rf_r2 \",svr_score,\"rf_mse \",svr_mse,\"rf_mae \",svr_mae)\n"
   ]
  },
  {
   "cell_type": "markdown",
   "id": "3598efa0-69de-4ff7-8e6f-32e610f25673",
   "metadata": {},
   "source": [
    "### Stacking Ensemble of Regressors"
   ]
  },
  {
   "cell_type": "markdown",
   "id": "ee3ab6cb-5bef-4ffc-93d8-89f777fdfa84",
   "metadata": {},
   "source": [
    "This technique will use the top three regressors from the previous experiment and then will implement a GradientBooster to find the best option to choose given an specific instance"
   ]
  },
  {
   "cell_type": "code",
   "execution_count": 35,
   "id": "57e35105-40cd-46c3-9554-454c09f5cc84",
   "metadata": {},
   "outputs": [],
   "source": [
    "from sklearn.ensemble import StackingRegressor\n",
    "from sklearn.ensemble import GradientBoostingRegressor\n",
    "rf=RandomForestRegressor(warm_start = True,n_estimators = 150)#random_forest_model\n",
    "gp = GaussianProcessRegressor()#GP_reg_model#\n",
    "xgb = XGBRegressor(warm_start = True)#xgb_model#\n",
    "estimators = [('rf',rf),('gp',gp),('xgb',xgb)]\n",
    "final_estimator = GradientBoostingRegressor(warm_start = True,n_estimators=200,subsample=1, min_samples_leaf=25,random_state=42,criterion='mae')\n",
    "\n",
    "stacked_f_reg = MultiOutputRegressor(StackingRegressor(estimators=estimators,final_estimator=final_estimator,n_jobs=-1, cv=5)).fit(X_train,y_train)"
   ]
  },
  {
   "cell_type": "code",
   "execution_count": 36,
   "id": "0e991969-5c0a-4779-92d4-34d279302931",
   "metadata": {},
   "outputs": [
    {
     "name": "stdout",
     "output_type": "stream",
     "text": [
      "TRAIN ERROR\n",
      "rf_r2  0.5039255708142446 rf_mse  3223502.583870516 rf_mae  21.008128522706436\n",
      "TEST ERROR\n",
      "rf_r2  0.4989274090862527 rf_mse  655816.5031451004 rf_mae  21.600725856856776\n"
     ]
    }
   ],
   "source": [
    "#predict train data\n",
    "stacked_f_reg_predictions = stacked_f_reg.predict(X_train)\n",
    "#predict train data\n",
    "stacked_f_reg_predictions_test = stacked_f_reg.predict(X_test)\n",
    "\n",
    "\n",
    "#scoring metrics training data \n",
    "stacked_train_score = r2_score(y_train,stacked_f_reg_predictions,multioutput='uniform_average')\n",
    "stacked_train_mse= mean_squared_error(y_train,stacked_f_reg_predictions,multioutput='uniform_average')\n",
    "stacked_train_mae = mean_absolute_error(y_train,stacked_f_reg_predictions,multioutput='uniform_average')\n",
    "\n",
    "#scoring metrics test data\n",
    "stacked_score = r2_score(y_test,stacked_f_reg_predictions_test,multioutput='uniform_average')\n",
    "stacked_mse= mean_squared_error(y_test,stacked_f_reg_predictions_test,multioutput='uniform_average')\n",
    "stacked_mae = mean_absolute_error(y_test,stacked_f_reg_predictions_test,multioutput='uniform_average')\n",
    "\n",
    "print(\"TRAIN ERROR\")\n",
    "print(\"rf_r2 \",stacked_train_score,\"rf_mse \",stacked_train_mse,\"rf_mae \",stacked_train_mae)\n",
    "print(\"TEST ERROR\")\n",
    "print(\"rf_r2 \",stacked_score,\"rf_mse \",stacked_mse,\"rf_mae \",stacked_mae)"
   ]
  },
  {
   "cell_type": "markdown",
   "id": "55c6e691-0445-4ef9-9664-65a2e97e8320",
   "metadata": {},
   "source": [
    "### Voting Ensemble"
   ]
  },
  {
   "cell_type": "code",
   "execution_count": 46,
   "id": "321a8629-0372-419f-a5ed-2415209b9ef6",
   "metadata": {},
   "outputs": [
    {
     "name": "stdout",
     "output_type": "stream",
     "text": [
      "TRAIN ERROR\n",
      "rf_r2  0.8581664257024147 rf_mse  1557955.1 rf_mae  47.85888\n",
      "TEST ERROR\n",
      "rf_r2  0.27350019484352994 rf_mse  4464548.0 rf_mae  93.11902\n"
     ]
    }
   ],
   "source": [
    "#SUM PREDICTIONS AND AVERAGE THE RESULT OF THE MODELS TO GENERATE A STACKED VERSION\n",
    "\n",
    "sum_train_predictions = np.add(random_forest_train_predictions, GP_predictions_train,xgb_predictions_train)\n",
    "avg_train_predictions = sum_train_predictions / 3\n",
    "\n",
    "sum_predictions = np.add(random_forest_predictions, GP_predictions,xgb_predictions)\n",
    "avg_predictions = sum_predictions / 3\n",
    "\n",
    "\n",
    "\n",
    "#print(\"train r2 is:\",stack_train_score,\"test r2 is:\",stack_score)\n",
    "\n",
    "\n",
    "#scoring metrics training data \n",
    "voting_train_score = r2_score(y_train,avg_train_predictions,multioutput='uniform_average')\n",
    "voting_train_mse= mean_squared_error(y_train,avg_train_predictions,multioutput='uniform_average')\n",
    "voting_train_mae = mean_absolute_error(y_train,avg_train_predictions,multioutput='uniform_average')\n",
    "\n",
    "#scoring metrics test data\n",
    "voting_score = r2_score(y_test,avg_predictions,multioutput='uniform_average')\n",
    "voting_mse= mean_squared_error(y_test,avg_predictions,multioutput='uniform_average')\n",
    "voting_mae = mean_absolute_error(y_test,avg_predictions,multioutput='uniform_average')\n",
    "print(\"TRAIN ERROR\")\n",
    "print(\"rf_r2 \",voting_train_score,\"rf_mse \",voting_train_mse,\"rf_mae \",voting_train_mae)\n",
    "print(\"TEST ERROR\")\n",
    "print(\"rf_r2 \",voting_score,\"rf_mse \",voting_mse,\"rf_mae \",voting_mae)"
   ]
  },
  {
   "cell_type": "code",
   "execution_count": 49,
   "id": "66c090d5-a6ff-447f-9a78-fe49ca6be30b",
   "metadata": {},
   "outputs": [],
   "source": [
    "from sklearn.datasets import make_classification\n",
    "from sklearn.model_selection import learning_curve\n",
    "import matplotlib as plt\n",
    "def evaluate(g,x,y):\n",
    "    train_sizes, train_scores, valid_scores = learning_curve(g,x,y, scoring = 'accuracy', cv =10)\n",
    "    plt.figure()\n",
    "    plt.xlabel(\"training size\")\n",
    "    plt.ylabel(\"accuracy\")\n",
    "    plt.plot(train_sizes,  np.mean(train_scores, axis=1), 'o-', color=\"r\",\n",
    "                     label=\"Training score\")\n",
    "    plt.plot(train_sizes,  np.mean(valid_scores, axis=1), 'o-', color=\"g\",\n",
    "                     label=\"Cross-validation score\")\n",
    "    plt.legend(loc=\"best\")\n",
    "    return plt.show()\n",
    "\n",
    "\n",
    "\n"
   ]
  },
  {
   "cell_type": "code",
   "execution_count": 50,
   "id": "bf49d3d7-d389-4cee-8149-521be578e5d9",
   "metadata": {},
   "outputs": [
    {
     "ename": "TypeError",
     "evalue": "'module' object is not callable",
     "output_type": "error",
     "traceback": [
      "\u001b[1;31m---------------------------------------------------------------------------\u001b[0m",
      "\u001b[1;31mTypeError\u001b[0m                                 Traceback (most recent call last)",
      "\u001b[1;32m<ipython-input-50-ff3944b67305>\u001b[0m in \u001b[0;36m<module>\u001b[1;34m\u001b[0m\n\u001b[1;32m----> 1\u001b[1;33m \u001b[0mevaluate\u001b[0m\u001b[1;33m(\u001b[0m\u001b[0mrandom_forest_model\u001b[0m\u001b[1;33m,\u001b[0m\u001b[0mX\u001b[0m\u001b[1;33m,\u001b[0m\u001b[0my_a\u001b[0m\u001b[1;33m)\u001b[0m\u001b[1;33m\u001b[0m\u001b[1;33m\u001b[0m\u001b[0m\n\u001b[0m",
      "\u001b[1;32m<ipython-input-49-52252fc56bc0>\u001b[0m in \u001b[0;36mevaluate\u001b[1;34m(g, x, y)\u001b[0m\n\u001b[0;32m      4\u001b[0m \u001b[1;32mdef\u001b[0m \u001b[0mevaluate\u001b[0m\u001b[1;33m(\u001b[0m\u001b[0mg\u001b[0m\u001b[1;33m,\u001b[0m\u001b[0mx\u001b[0m\u001b[1;33m,\u001b[0m\u001b[0my\u001b[0m\u001b[1;33m)\u001b[0m\u001b[1;33m:\u001b[0m\u001b[1;33m\u001b[0m\u001b[1;33m\u001b[0m\u001b[0m\n\u001b[0;32m      5\u001b[0m     \u001b[0mtrain_sizes\u001b[0m\u001b[1;33m,\u001b[0m \u001b[0mtrain_scores\u001b[0m\u001b[1;33m,\u001b[0m \u001b[0mvalid_scores\u001b[0m \u001b[1;33m=\u001b[0m \u001b[0mlearning_curve\u001b[0m\u001b[1;33m(\u001b[0m\u001b[0mg\u001b[0m\u001b[1;33m,\u001b[0m\u001b[0mx\u001b[0m\u001b[1;33m,\u001b[0m\u001b[0my\u001b[0m\u001b[1;33m,\u001b[0m \u001b[0mscoring\u001b[0m \u001b[1;33m=\u001b[0m \u001b[1;34m'accuracy'\u001b[0m\u001b[1;33m,\u001b[0m \u001b[0mcv\u001b[0m \u001b[1;33m=\u001b[0m\u001b[1;36m10\u001b[0m\u001b[1;33m)\u001b[0m\u001b[1;33m\u001b[0m\u001b[1;33m\u001b[0m\u001b[0m\n\u001b[1;32m----> 6\u001b[1;33m     \u001b[0mplt\u001b[0m\u001b[1;33m.\u001b[0m\u001b[0mfigure\u001b[0m\u001b[1;33m(\u001b[0m\u001b[1;33m)\u001b[0m\u001b[1;33m\u001b[0m\u001b[1;33m\u001b[0m\u001b[0m\n\u001b[0m\u001b[0;32m      7\u001b[0m     \u001b[0mplt\u001b[0m\u001b[1;33m.\u001b[0m\u001b[0mxlabel\u001b[0m\u001b[1;33m(\u001b[0m\u001b[1;34m\"training size\"\u001b[0m\u001b[1;33m)\u001b[0m\u001b[1;33m\u001b[0m\u001b[1;33m\u001b[0m\u001b[0m\n\u001b[0;32m      8\u001b[0m     \u001b[0mplt\u001b[0m\u001b[1;33m.\u001b[0m\u001b[0mylabel\u001b[0m\u001b[1;33m(\u001b[0m\u001b[1;34m\"accuracy\"\u001b[0m\u001b[1;33m)\u001b[0m\u001b[1;33m\u001b[0m\u001b[1;33m\u001b[0m\u001b[0m\n",
      "\u001b[1;31mTypeError\u001b[0m: 'module' object is not callable"
     ]
    }
   ],
   "source": [
    "evaluate(random_forest_model,X,y_a)"
   ]
  },
  {
   "cell_type": "code",
   "execution_count": null,
   "id": "2283ef39-583d-4629-9be5-925ef9c19c67",
   "metadata": {},
   "outputs": [],
   "source": [
    "evaluate(KNN_reg_model,X,y_a)"
   ]
  },
  {
   "cell_type": "code",
   "execution_count": null,
   "id": "5cfedebf-96c6-45c0-9b50-97eb845541b1",
   "metadata": {},
   "outputs": [],
   "source": [
    "evaluate(GP_reg_model,X,y_a)"
   ]
  },
  {
   "cell_type": "code",
   "execution_count": null,
   "id": "8beed131-ba35-451e-8aef-381f9ea83876",
   "metadata": {},
   "outputs": [],
   "source": [
    "evaluate(xgb_model,X,y_a)"
   ]
  },
  {
   "cell_type": "code",
   "execution_count": null,
   "id": "3de41f77-cc40-428e-a91f-22a51f86b78f",
   "metadata": {},
   "outputs": [],
   "source": [
    "evaluate(svr_model,X,y_a)"
   ]
  },
  {
   "cell_type": "code",
   "execution_count": null,
   "id": "e6827baf-eaa3-4143-af9c-5b753a81f6db",
   "metadata": {},
   "outputs": [],
   "source": [
    "\n",
    "#save classifier\n",
    "\n",
    "from joblib import dump, load\n",
    "\n",
    "dump(random_forest_model,'random_forest_clf.joblib')\n",
    "dump(GP_reg_model,'gaussian_processReg_model.joblib')\n",
    "dump(xgb_model,'xgb_clf.joblib')\n",
    "\n"
   ]
  }
 ],
 "metadata": {
  "kernelspec": {
   "display_name": "Python 3",
   "language": "python",
   "name": "python3"
  },
  "language_info": {
   "codemirror_mode": {
    "name": "ipython",
    "version": 3
   },
   "file_extension": ".py",
   "mimetype": "text/x-python",
   "name": "python",
   "nbconvert_exporter": "python",
   "pygments_lexer": "ipython3",
   "version": "3.8.8"
  }
 },
 "nbformat": 4,
 "nbformat_minor": 5
}
